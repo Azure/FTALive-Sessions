{
  "cells": [
    {
      "cell_type": "markdown",
      "metadata": {},
      "source": [
        "# Scoring with Managed Online Endpoints"
      ]
    },
    {
      "cell_type": "code",
      "execution_count": 1,
      "metadata": {},
      "outputs": [
        {
          "name": "stdout",
          "output_type": "stream",
          "text": [
            "We could not find config.json in: . or in its parent directories. \n",
            "MLClient(credential=<azure.identity._credentials.default.DefaultAzureCredential object at 0x7f87d8cda820>,\n",
            "         subscription_id=25758354-2fe7-426a-be0e-1ad20058340d,\n",
            "         resource_group_name=azureml-live,\n",
            "         workspace_name=ftaliveazureml)\n"
          ]
        }
      ],
      "source": [
        "from azure.identity import DefaultAzureCredential\n",
        "from azure.ai.ml import MLClient\n",
        "\n",
        "\n",
        "credential = DefaultAzureCredential()\n",
        "ml_client = None\n",
        "try:\n",
        "    ml_client = MLClient.from_config(credential)\n",
        "except Exception as ex:\n",
        "    print(ex)\n",
        "    # Enter details of your AML workspace\n",
        "    subscription_id = \"<Subscription ID>\"\n",
        "    resource_group = \"<ResourceGroup Name>\"\n",
        "    workspace = \"<<WorkspaceName>\"\n",
        "    ml_client = MLClient(credential, subscription_id, resource_group, workspace)\n",
        "print(ml_client)"
      ]
    },
    {
      "cell_type": "code",
      "execution_count": 2,
      "metadata": {},
      "outputs": [],
      "source": [
        "from azure.ai.ml.entities import (\n",
        "    ManagedOnlineEndpoint,\n",
        "    ManagedOnlineDeployment,\n",
        "    Model,\n",
        "    Environment,\n",
        "    CodeConfiguration,\n",
        ")\n",
        "from azure.ai.ml.constants import AssetTypes"
      ]
    },
    {
      "cell_type": "code",
      "execution_count": 3,
      "metadata": {},
      "outputs": [
        {
          "data": {
            "text/plain": [
              "ManagedOnlineEndpoint({'public_network_access': 'Enabled', 'provisioning_state': 'Succeeded', 'scoring_uri': 'https://endpoint-06220908067978.southeastasia.inference.ml.azure.com/score', 'swagger_uri': 'https://endpoint-06220908067978.southeastasia.inference.ml.azure.com/swagger.json', 'name': 'endpoint-06220908067978', 'description': 'this is a online endpoint for diabetes LGBM mlflow model', 'tags': {'model': 'diabetes'}, 'properties': {'azureml.onlineendpointid': '/subscriptions/25758354-2fe7-426a-be0e-1ad20058340d/resourcegroups/azureml-live/providers/microsoft.machinelearningservices/workspaces/ftaliveazureml/onlineendpoints/endpoint-06220908067978', 'AzureAsyncOperationUri': 'https://management.azure.com/subscriptions/25758354-2fe7-426a-be0e-1ad20058340d/providers/Microsoft.MachineLearningServices/locations/southeastasia/mfeOperationsStatus/oe:b417752f-200a-46d5-b47e-800a43295269:72a84348-8d04-4f47-a12d-fa11e8d996d7?api-version=2022-02-01-preview'}, 'id': '/subscriptions/25758354-2fe7-426a-be0e-1ad20058340d/resourceGroups/azureml-live/providers/Microsoft.MachineLearningServices/workspaces/ftaliveazureml/onlineEndpoints/endpoint-06220908067978', 'base_path': './', 'creation_context': None, 'serialize': <msrest.serialization.Serializer object at 0x7f87ccb23820>, 'auth_mode': 'key', 'location': 'southeastasia', 'identity': <azure.ai.ml._restclient.v2022_02_01_preview.models._models_py3.ManagedServiceIdentity object at 0x7f87ccb232e0>, 'traffic': {}, 'mirror_traffic': {}, 'kind': 'Managed'})"
            ]
          },
          "execution_count": 3,
          "metadata": {},
          "output_type": "execute_result"
        }
      ],
      "source": [
        "# Creating a unique endpoint name with current datetime to avoid conflicts\n",
        "import datetime\n",
        "\n",
        "online_endpoint_name = \"endpoint-\" + datetime.datetime.now().strftime(\"%m%d%H%M%f\")\n",
        "\n",
        "# create an online endpoint\n",
        "endpoint = ManagedOnlineEndpoint(\n",
        "    name=online_endpoint_name,\n",
        "    description=\"this is a online endpoint for diabetes LGBM mlflow model\",\n",
        "    auth_mode=\"key\",\n",
        "    tags={\"model\": \"diabetes\"},\n",
        ")\n",
        "\n",
        "ml_client.online_endpoints.begin_create_or_update(endpoint)"
      ]
    },
    {
      "cell_type": "code",
      "execution_count": 4,
      "metadata": {},
      "outputs": [
        {
          "name": "stderr",
          "output_type": "stream",
          "text": [
            "Check: endpoint endpoint-06220908067978 exists\n",
            "Creating/updating online deployment blue "
          ]
        },
        {
          "name": "stdout",
          "output_type": "stream",
          "text": [
            "............................................................................................."
          ]
        },
        {
          "name": "stderr",
          "output_type": "stream",
          "text": [
            "Done (8m 11s)\n"
          ]
        }
      ],
      "source": [
        "# create a blue deployment\n",
        "\n",
        "#For MLFlow models, scoring and environment files are auto-generated\n",
        "\n",
        "model = ml_client.models.get(name=\"Diabetest-LGBM-Model\",version=\"1\")\n",
        "\n",
        "blue_deployment = ManagedOnlineDeployment(\n",
        "    name=\"blue\",\n",
        "    endpoint_name=online_endpoint_name,\n",
        "    model=model,\n",
        "    instance_type=\"Standard_F4s_v2\",\n",
        "    instance_count=1,\n",
        ")\n",
        "\n",
        "ml_client.online_deployments.begin_create_or_update(blue_deployment)"
      ]
    },
    {
      "cell_type": "code",
      "execution_count": 5,
      "metadata": {},
      "outputs": [
        {
          "data": {
            "text/plain": [
              "'[227.92313383298713, 227.92313383298713]'"
            ]
          },
          "execution_count": 5,
          "metadata": {},
          "output_type": "execute_result"
        }
      ],
      "source": [
        "# test the blue deployment with some sample data\n",
        "ml_client.online_endpoints.invoke(\n",
        "    endpoint_name='endpoint-06210618832738',\n",
        "    deployment_name=\"blue\",\n",
        "    request_file=\"./050_scripts/online/sample_request.json\",\n",
        ")"
      ]
    },
    {
      "cell_type": "code",
      "execution_count": 6,
      "metadata": {},
      "outputs": [
        {
          "name": "stdout",
          "output_type": "stream",
          "text": [
            "{'blue': 0}\n",
            "https://endpoint-06210618832738.southeastasia.inference.ml.azure.com/score\n"
          ]
        }
      ],
      "source": [
        "# Get the details for online endpoint\n",
        "endpoint = ml_client.online_endpoints.get(name='endpoint-06210618832738')\n",
        "\n",
        "# existing traffic details\n",
        "print(endpoint.traffic)\n",
        "\n",
        "# Get the scoring URI\n",
        "print(endpoint.scoring_uri)"
      ]
    }
  ],
  "metadata": {
    "kernel_info": {
      "name": "python3"
    },
    "kernelspec": {
      "display_name": "Python 3",
      "language": "python",
      "name": "python3"
    },
    "language_info": {
      "codemirror_mode": {
        "name": "ipython",
        "version": 3
      },
      "file_extension": ".py",
      "mimetype": "text/x-python",
      "name": "python",
      "nbconvert_exporter": "python",
      "pygments_lexer": "ipython3",
      "version": "3.8.5"
    },
    "nteract": {
      "version": "nteract-front-end@1.0.0"
    },
    "orig_nbformat": 4,
    "vscode": {
      "interpreter": {
        "hash": "6d65a8c07f5b6469e0fc613f182488c0dccce05038bbda39e5ac9075c0454d11"
      }
    }
  },
  "nbformat": 4,
  "nbformat_minor": 0
}
