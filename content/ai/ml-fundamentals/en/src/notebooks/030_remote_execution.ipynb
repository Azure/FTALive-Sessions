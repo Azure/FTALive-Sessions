{
 "cells": [
  {
   "cell_type": "markdown",
   "source": [
    "# Remote execution on compute cluster"
   ],
   "metadata": {
    "nteract": {
     "transient": {
      "deleting": false
     }
    }
   }
  },
  {
   "cell_type": "code",
   "source": [
    "from azureml.core import Workspace\n",
    "\n",
    "ws = Workspace.from_config()\n",
    "target = ws.compute_targets[\"cpu-cluster\"]"
   ],
   "outputs": [],
   "execution_count": null,
   "metadata": {
    "jupyter": {
     "source_hidden": false,
     "outputs_hidden": false
    },
    "nteract": {
     "transient": {
      "deleting": false
     }
    },
    "gather": {
     "logged": 1631692518758
    }
   }
  },
  {
   "cell_type": "code",
   "source": [
    "from azureml.core import ScriptRunConfig\n",
    "\n",
    "script = ScriptRunConfig(\n",
    "    source_directory=\"030_scripts\",\n",
    "    script=\"sklearn_vanilla_train.py\",\n",
    "    compute_target=target,\n",
    "    environment=ws.environments[\"AzureML-sklearn-0.24-ubuntu18.04-py37-cpu\"],\n",
    "    arguments=[\"--alpha\", 0.01],\n",
    ")"
   ],
   "outputs": [],
   "execution_count": null,
   "metadata": {
    "jupyter": {
     "source_hidden": false,
     "outputs_hidden": false
    },
    "nteract": {
     "transient": {
      "deleting": false
     }
    }
   }
  },
  {
   "cell_type": "code",
   "source": [
    "from azureml.core import Experiment\n",
    "\n",
    "exp = Experiment(ws, \"remote-script-execution\")\n",
    "run = exp.submit(script)\n",
    "run.wait_for_completion(show_output=True)"
   ],
   "outputs": [],
   "execution_count": null,
   "metadata": {
    "jupyter": {
     "source_hidden": false,
     "outputs_hidden": false
    },
    "nteract": {
     "transient": {
      "deleting": false
     }
    }
   }
  },
  {
   "cell_type": "markdown",
   "source": [
    "## Custom environment"
   ],
   "metadata": {
    "nteract": {
     "transient": {
      "deleting": false
     }
    }
   }
  },
  {
   "cell_type": "code",
   "source": [
    "from azureml.core import Environment\n",
    "from azureml.core.conda_dependencies import CondaDependencies\n",
    "import sklearn\n",
    "\n",
    "diabetes_env = Environment(name=\"diabetes-training-env\")\n",
    "diabetes_env.python.conda_dependencies = CondaDependencies.create(\n",
    "    conda_packages=[\n",
    "        f\"scikit-learn=={sklearn.__version__}\",\n",
    "        \"mlflow\",\n",
    "    ],\n",
    "    pip_packages=[\"azureml-defaults\", \"azureml-mlflow\", \"azureml-dataprep[pandas]\"],\n",
    ")\n",
    "# Or if you had a yml conda file\n",
    "# diabetes_env = Environment.from_conda_specification(\n",
    "#                            name = \"diabetes-training-env\",\n",
    "#                            file_path = \"diabetes-conda.yml\")\n",
    "# Or even from Docker file\n",
    "# https://docs.microsoft.com/en-us/python/api/azureml-core/azureml.core.environment.environment?view=azure-ml-py#from-dockerfile-name--dockerfile--conda-specification-none--pip-requirements-none-"
   ],
   "outputs": [],
   "execution_count": null,
   "metadata": {
    "jupyter": {
     "source_hidden": false,
     "outputs_hidden": false
    },
    "nteract": {
     "transient": {
      "deleting": false
     }
    },
    "gather": {
     "logged": 1631692544714
    }
   }
  },
  {
   "cell_type": "code",
   "source": [
    "diabetes_env.environment_variables[\"MY_VAR\"] = \"Hello from environment\""
   ],
   "outputs": [],
   "execution_count": null,
   "metadata": {
    "jupyter": {
     "source_hidden": false,
     "outputs_hidden": false
    },
    "nteract": {
     "transient": {
      "deleting": false
     }
    },
    "gather": {
     "logged": 1631692547723
    }
   }
  },
  {
   "cell_type": "code",
   "source": [
    "script = ScriptRunConfig(\n",
    "    source_directory=\"030_scripts\",\n",
    "    script=\"sklearn_vanilla_train.py\",\n",
    "    compute_target=target,\n",
    "    environment=diabetes_env,\n",
    "    arguments=[\"--alpha\", 0.01],\n",
    ")\n",
    "\n",
    "exp = Experiment(ws, \"remote-script-execution\")\n",
    "run = exp.submit(script)\n",
    "# First time you will see 20_image_build_log.txt.\n",
    "# The image will be stored in the container registry and will\n",
    "# be reused in follow up calls.\n",
    "run.wait_for_completion(show_output=True)"
   ],
   "outputs": [],
   "execution_count": null,
   "metadata": {
    "jupyter": {
     "source_hidden": false,
     "outputs_hidden": false
    },
    "nteract": {
     "transient": {
      "deleting": false
     }
    },
    "gather": {
     "logged": 1631649842160
    }
   }
  },
  {
   "cell_type": "code",
   "source": [
    "# Optionally, register the environment\n",
    "diabetes_env.register(ws)"
   ],
   "outputs": [],
   "execution_count": null,
   "metadata": {
    "jupyter": {
     "source_hidden": false,
     "outputs_hidden": false
    },
    "nteract": {
     "transient": {
      "deleting": false
     }
    },
    "gather": {
     "logged": 1631650444191
    }
   }
  },
  {
   "cell_type": "markdown",
   "source": [
    "## Consuming datasets"
   ],
   "metadata": {
    "nteract": {
     "transient": {
      "deleting": false
     }
    }
   }
  },
  {
   "cell_type": "code",
   "source": [
    "from azureml.core import Dataset\n",
    "\n",
    "dataset = Dataset.get_by_name(ws, name=\"diabetes-tabular\")"
   ],
   "outputs": [],
   "execution_count": null,
   "metadata": {
    "jupyter": {
     "source_hidden": false,
     "outputs_hidden": false
    },
    "nteract": {
     "transient": {
      "deleting": false
     }
    },
    "gather": {
     "logged": 1631692559328
    }
   }
  },
  {
   "cell_type": "code",
   "source": [
    "from azureml.core import ScriptRunConfig\n",
    "\n",
    "script = ScriptRunConfig(\n",
    "    source_directory=\"030_scripts\",\n",
    "    script=\"train_with_azureml_workspace.py\",\n",
    "    compute_target=target,\n",
    "    environment=diabetes_env,\n",
    "    arguments=[\"--alpha\", 0.01, dataset.as_named_input(\"diabetes_dataset\")],\n",
    ")"
   ],
   "outputs": [],
   "execution_count": null,
   "metadata": {
    "jupyter": {
     "source_hidden": false,
     "outputs_hidden": false
    },
    "nteract": {
     "transient": {
      "deleting": false
     }
    },
    "gather": {
     "logged": 1631692593008
    }
   }
  },
  {
   "cell_type": "code",
   "source": [
    "from azureml.core import Experiment\n",
    "\n",
    "exp = Experiment(ws, \"remote-script-execution\")\n",
    "run = exp.submit(script)\n",
    "# You shouldn't see the 20_image_build_log.txt this time\n",
    "run.wait_for_completion(show_output=True)"
   ],
   "outputs": [],
   "execution_count": null,
   "metadata": {
    "jupyter": {
     "source_hidden": false,
     "outputs_hidden": false
    },
    "nteract": {
     "transient": {
      "deleting": false
     }
    },
    "gather": {
     "logged": 1631693354157
    }
   }
  },
  {
   "cell_type": "markdown",
   "source": [
    "## Hyper parameter tuning"
   ],
   "metadata": {
    "nteract": {
     "transient": {
      "deleting": false
     }
    }
   }
  },
  {
   "cell_type": "code",
   "source": [
    "# Note that we don't pass arguments\n",
    "script = ScriptRunConfig(\n",
    "    source_directory=\"030_scripts\",\n",
    "    script=\"sklearn_vanilla_train.py\",\n",
    "    compute_target=target,\n",
    "    environment=diabetes_env,\n",
    ")"
   ],
   "outputs": [],
   "execution_count": null,
   "metadata": {
    "jupyter": {
     "source_hidden": false,
     "outputs_hidden": false
    },
    "nteract": {
     "transient": {
      "deleting": false
     }
    },
    "gather": {
     "logged": 1631654718395
    }
   }
  },
  {
   "cell_type": "code",
   "source": [
    "from azureml.train.hyperdrive import HyperDriveConfig\n",
    "from azureml.train.hyperdrive import RandomParameterSampling, uniform, PrimaryMetricGoal\n",
    "\n",
    "param_sampling = RandomParameterSampling(\n",
    "    {\n",
    "        \"alpha\": uniform(0.00001, 0.1),\n",
    "    }\n",
    ")\n",
    "\n",
    "hd_config = HyperDriveConfig(\n",
    "    run_config=script,\n",
    "    hyperparameter_sampling=param_sampling,\n",
    "    primary_metric_name=\"training_rmse\",\n",
    "    primary_metric_goal=PrimaryMetricGoal.MINIMIZE,\n",
    "    max_total_runs=20,\n",
    "    max_concurrent_runs=2,\n",
    ")"
   ],
   "outputs": [],
   "execution_count": null,
   "metadata": {
    "jupyter": {
     "source_hidden": false,
     "outputs_hidden": false
    },
    "nteract": {
     "transient": {
      "deleting": false
     }
    },
    "gather": {
     "logged": 1631654848654
    }
   }
  },
  {
   "cell_type": "code",
   "source": [
    "experiment = Experiment(ws, \"hyperdrive-experiment\")\n",
    "hyperdrive_run = experiment.submit(hd_config)\n",
    "\n",
    "hyperdrive_run.wait_for_completion(show_output=True)"
   ],
   "outputs": [],
   "execution_count": null,
   "metadata": {
    "jupyter": {
     "source_hidden": false,
     "outputs_hidden": false
    },
    "nteract": {
     "transient": {
      "deleting": false
     }
    }
   }
  }
 ],
 "metadata": {
  "kernelspec": {
   "name": "python3-azureml",
   "language": "python",
   "display_name": "Python 3.8 - AzureML"
  },
  "language_info": {
   "name": "python",
   "version": "3.8.5",
   "mimetype": "text/x-python",
   "codemirror_mode": {
    "name": "ipython",
    "version": 3
   },
   "pygments_lexer": "ipython3",
   "nbconvert_exporter": "python",
   "file_extension": ".py"
  },
  "kernel_info": {
   "name": "python3-azureml"
  },
  "nteract": {
   "version": "nteract-front-end@1.0.0"
  },
  "microsoft": {
   "host": {
    "AzureML": {
     "notebookHasBeenCompleted": true
    }
   }
  },
  "execution":{
    "timeout": 1800
  }
 },
 "nbformat": 4,
 "nbformat_minor": 2
}
