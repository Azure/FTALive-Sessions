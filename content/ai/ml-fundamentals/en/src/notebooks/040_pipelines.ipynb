{
  "cells": [
    {
      "cell_type": "markdown",
      "source": [
        "# Authoring repeatable processes aka AzureML pipelines"
      ],
      "metadata": {
        "nteract": {
          "transient": {
            "deleting": false
          }
        }
      }
    },
    {
      "cell_type": "code",
      "source": [
        "from azureml.core import Workspace\n",
        "\n",
        "ws = Workspace.from_config()\n",
        "dataset = ws.datasets[\"diabetes-tabular\"]\n",
        "compute_target = ws.compute_targets[\"cpu-cluster\"]"
      ],
      "outputs": [],
      "execution_count": null,
      "metadata": {
        "gather": {
          "logged": 1631718902936
        }
      }
    },
    {
      "cell_type": "code",
      "source": [
        "from azureml.core import RunConfiguration\n",
        "\n",
        "# To simplify we are going to use a big demo environment instead\n",
        "# of creating our own specialized environment. We will also use\n",
        "# the same environment for all steps, but this is not needed.\n",
        "runconfig = RunConfiguration()\n",
        "runconfig.environment = ws.environments[\"AzureML-lightgbm-3.2-ubuntu18.04-py37-cpu\"]"
      ],
      "outputs": [],
      "execution_count": null,
      "metadata": {
        "jupyter": {
          "source_hidden": false,
          "outputs_hidden": false
        },
        "nteract": {
          "transient": {
            "deleting": false
          }
        },
        "gather": {
          "logged": 1631718903009
        }
      }
    },
    {
      "cell_type": "markdown",
      "source": [
        "## Step 1 - Convert data into LightGBM dataset"
      ],
      "metadata": {
        "nteract": {
          "transient": {
            "deleting": false
          }
        }
      }
    },
    {
      "cell_type": "code",
      "source": [
        "from azureml.pipeline.core import PipelineData\n",
        "\n",
        "step01_output = PipelineData(\n",
        "    \"training_data\", datastore=ws.get_default_datastore(), is_directory=True\n",
        ")"
      ],
      "outputs": [],
      "execution_count": null,
      "metadata": {
        "jupyter": {
          "source_hidden": false,
          "outputs_hidden": false
        },
        "nteract": {
          "transient": {
            "deleting": false
          }
        },
        "gather": {
          "logged": 1631718903399
        }
      }
    },
    {
      "cell_type": "code",
      "source": [
        "from azureml.pipeline.core import PipelineParameter\n",
        "from azureml.data.dataset_consumption_config import DatasetConsumptionConfig\n",
        "\n",
        "ds_pipeline_param = PipelineParameter(name=\"dataset\", default_value=dataset)\n",
        "step01_input_dataset = DatasetConsumptionConfig(\"input_dataset\", ds_pipeline_param)"
      ],
      "outputs": [],
      "execution_count": null,
      "metadata": {
        "jupyter": {
          "source_hidden": false,
          "outputs_hidden": false
        },
        "nteract": {
          "transient": {
            "deleting": false
          }
        },
        "gather": {
          "logged": 1631718903471
        }
      }
    },
    {
      "cell_type": "code",
      "source": [
        "from azureml.pipeline.steps import PythonScriptStep\n",
        "\n",
        "step_01 = PythonScriptStep(\n",
        "    \"step01_data_prep.py\",\n",
        "    source_directory=\"040_scripts\",\n",
        "    arguments=[\"--dataset-id\", step01_input_dataset, \"--output-path\", step01_output],\n",
        "    name=\"Prepare data\",\n",
        "    runconfig=runconfig,\n",
        "    compute_target=compute_target,\n",
        "    inputs=[step01_input_dataset],\n",
        "    outputs=[step01_output],\n",
        "    allow_reuse=True,\n",
        ")"
      ],
      "outputs": [],
      "execution_count": null,
      "metadata": {
        "jupyter": {
          "source_hidden": false,
          "outputs_hidden": false
        },
        "nteract": {
          "transient": {
            "deleting": false
          }
        },
        "gather": {
          "logged": 1631718903944
        }
      }
    },
    {
      "cell_type": "markdown",
      "source": [
        "## Step 2 - Train the LightGBM model"
      ],
      "metadata": {
        "nteract": {
          "transient": {
            "deleting": false
          }
        }
      }
    },
    {
      "cell_type": "code",
      "source": [
        "from azureml.pipeline.core import PipelineParameter\n",
        "\n",
        "learning_rate_param = PipelineParameter(name=\"learning_rate\", default_value=0.05)"
      ],
      "outputs": [],
      "execution_count": null,
      "metadata": {
        "jupyter": {
          "source_hidden": false,
          "outputs_hidden": false
        },
        "nteract": {
          "transient": {
            "deleting": false
          }
        },
        "gather": {
          "logged": 1631718904021
        }
      }
    },
    {
      "cell_type": "code",
      "source": [
        "step02_output = PipelineData(\n",
        "    \"model_output\", datastore=ws.get_default_datastore(), is_directory=True\n",
        ")"
      ],
      "outputs": [],
      "execution_count": null,
      "metadata": {
        "jupyter": {
          "source_hidden": false,
          "outputs_hidden": false
        },
        "nteract": {
          "transient": {
            "deleting": false
          }
        },
        "gather": {
          "logged": 1631718904082
        }
      }
    },
    {
      "cell_type": "code",
      "source": [
        "step_02 = PythonScriptStep(\n",
        "    \"step02_train.py\",\n",
        "    source_directory=\"040_scripts\",\n",
        "    arguments=[\n",
        "        \"--learning-rate\",\n",
        "        learning_rate_param,\n",
        "        \"--input-path\",\n",
        "        step01_output,\n",
        "        \"--output-path\",\n",
        "        step02_output,\n",
        "    ],\n",
        "    name=\"Train model\",\n",
        "    runconfig=runconfig,\n",
        "    compute_target=compute_target,\n",
        "    inputs=[step01_output],\n",
        "    outputs=[step02_output],\n",
        ")"
      ],
      "outputs": [],
      "execution_count": null,
      "metadata": {
        "jupyter": {
          "source_hidden": false,
          "outputs_hidden": false
        },
        "nteract": {
          "transient": {
            "deleting": false
          }
        },
        "gather": {
          "logged": 1631718904149
        }
      }
    },
    {
      "cell_type": "markdown",
      "source": [
        "## Step 3 - Register model"
      ],
      "metadata": {
        "nteract": {
          "transient": {
            "deleting": false
          }
        }
      }
    },
    {
      "cell_type": "code",
      "source": [
        "step_03 = PythonScriptStep(\n",
        "    \"step03_register.py\",\n",
        "    source_directory=\"040_scripts\",\n",
        "    arguments=[\n",
        "        \"--input-path\",\n",
        "        step02_output,\n",
        "        \"--dataset-id\",\n",
        "        step01_input_dataset,\n",
        "    ],\n",
        "    name=\"Register model\",\n",
        "    runconfig=runconfig,\n",
        "    compute_target=compute_target,\n",
        "    inputs=[step01_input_dataset, step02_output],\n",
        ")"
      ],
      "outputs": [],
      "execution_count": null,
      "metadata": {
        "jupyter": {
          "source_hidden": false,
          "outputs_hidden": false
        },
        "nteract": {
          "transient": {
            "deleting": false
          }
        },
        "gather": {
          "logged": 1631718904969
        }
      }
    },
    {
      "cell_type": "markdown",
      "source": [
        "## Create pipeline"
      ],
      "metadata": {
        "nteract": {
          "transient": {
            "deleting": false
          }
        }
      }
    },
    {
      "cell_type": "code",
      "source": [
        "from azureml.pipeline.core import Pipeline\n",
        "\n",
        "pipeline = Pipeline(workspace=ws, steps=[step_01, step_02, step_03])"
      ],
      "outputs": [],
      "execution_count": null,
      "metadata": {
        "jupyter": {
          "source_hidden": false,
          "outputs_hidden": false
        },
        "nteract": {
          "transient": {
            "deleting": false
          }
        },
        "gather": {
          "logged": 1631718906286
        }
      }
    },
    {
      "cell_type": "markdown",
      "source": [
        "## Trigger pipeline through SDK"
      ],
      "metadata": {
        "nteract": {
          "transient": {
            "deleting": false
          }
        }
      }
    },
    {
      "cell_type": "code",
      "source": [
        "from azureml.core import Experiment\n",
        "\n",
        "# Using the SDK\n",
        "experiment = Experiment(ws, \"pipeline-run\")\n",
        "pipeline_run = experiment.submit(pipeline, pipeline_parameters={\"learning_rate\": 0.5})\n",
        "pipeline_run.wait_for_completion()"
      ],
      "outputs": [],
      "execution_count": null,
      "metadata": {
        "jupyter": {
          "source_hidden": false,
          "outputs_hidden": false
        },
        "nteract": {
          "transient": {
            "deleting": false
          }
        },
        "gather": {
          "logged": 1631718985346
        }
      }
    },
    {
      "cell_type": "markdown",
      "source": [
        "## Register pipeline to reuse"
      ],
      "metadata": {
        "nteract": {
          "transient": {
            "deleting": false
          }
        }
      }
    },
    {
      "cell_type": "code",
      "source": [
        "published_pipeline = pipeline.publish(\n",
        "    \"Training pipeline\", description=\"A pipeline to train a LightGBM model\"\n",
        ")"
      ],
      "outputs": [],
      "execution_count": null,
      "metadata": {
        "jupyter": {
          "source_hidden": false,
          "outputs_hidden": false
        },
        "nteract": {
          "transient": {
            "deleting": false
          }
        },
        "gather": {
          "logged": 1631718987214
        }
      }
    },
    {
      "cell_type": "markdown",
      "source": [
        "## Trigger published pipeline through REST"
      ],
      "metadata": {
        "nteract": {
          "transient": {
            "deleting": false
          }
        }
      }
    },
    {
      "cell_type": "code",
      "source": [
        "from azureml.core.authentication import InteractiveLoginAuthentication\n",
        "\n",
        "auth = InteractiveLoginAuthentication()\n",
        "aad_token = auth.get_authentication_header()"
      ],
      "outputs": [],
      "execution_count": null,
      "metadata": {
        "jupyter": {
          "source_hidden": false,
          "outputs_hidden": false
        },
        "nteract": {
          "transient": {
            "deleting": false
          }
        },
        "gather": {
          "logged": 1631718987365
        }
      }
    },
    {
      "cell_type": "code",
      "source": [
        "import requests\n",
        "\n",
        "response = requests.post(\n",
        "    published_pipeline.endpoint,\n",
        "    headers=aad_token,\n",
        "    json={\n",
        "        \"ExperimentName\": \"pipeline-run\",\n",
        "        \"ParameterAssignments\": {\"learning_rate\": 0.02},\n",
        "    },\n",
        ")\n",
        "\n",
        "print(\n",
        "    f\"Made a POST request to {published_pipeline.endpoint} and got {response.status_code}.\"\n",
        ")\n",
        "print(f\"The portal url for the run is {response.json()['RunUrl']}\")"
      ],
      "outputs": [],
      "execution_count": null,
      "metadata": {
        "jupyter": {
          "source_hidden": false,
          "outputs_hidden": false
        },
        "nteract": {
          "transient": {
            "deleting": false
          }
        },
        "gather": {
          "logged": 1631718988081
        }
      }
    },
    {
      "cell_type": "markdown",
      "source": [
        "## Scheduling a pipeline"
      ],
      "metadata": {
        "nteract": {
          "transient": {
            "deleting": false
          }
        }
      }
    },
    {
      "cell_type": "code",
      "source": [
        "from azureml.pipeline.core.schedule import ScheduleRecurrence, Schedule\n",
        "from datetime import datetime\n",
        "\n",
        "recurrence = ScheduleRecurrence(\n",
        "    frequency=\"Month\", interval=1, start_time=datetime.now()\n",
        ")\n",
        "\n",
        "schedule = Schedule.create(\n",
        "    workspace=ws,\n",
        "    name=\"pipeline-schedule\",\n",
        "    pipeline_id=published_pipeline.id,\n",
        "    experiment_name=\"pipeline-schedule-run\",\n",
        "    recurrence=recurrence,\n",
        "    wait_for_provisioning=True,\n",
        "    description=\"Schedule to retrain model\",\n",
        ")\n",
        "\n",
        "print(\"Created schedule with id: {}\".format(schedule.id))"
      ],
      "outputs": [],
      "execution_count": null,
      "metadata": {
        "jupyter": {
          "source_hidden": false,
          "outputs_hidden": false
        },
        "nteract": {
          "transient": {
            "deleting": false
          }
        },
        "gather": {
          "logged": 1631718995938
        }
      }
    },
    {
      "cell_type": "code",
      "source": [
        "from azureml.pipeline.core.schedule import Schedule\n",
        "\n",
        "# Disable schedule\n",
        "schedules = Schedule.list(ws, active_only=True)\n",
        "print(\"Your workspace has the following schedules set up:\")\n",
        "for schedule in schedules:\n",
        "    print(f\"Disabling {schedule.id} (Published pipeline: {schedule.pipeline_id}\")\n",
        "    schedule.disable(wait_for_provisioning=True)"
      ],
      "outputs": [],
      "execution_count": null,
      "metadata": {
        "jupyter": {
          "source_hidden": false,
          "outputs_hidden": false
        },
        "nteract": {
          "transient": {
            "deleting": false
          }
        },
        "gather": {
          "logged": 1631719003140
        }
      }
    }
  ],
  "metadata": {
    "kernelspec": {
      "name": "python3-azureml",
      "language": "python",
      "display_name": "Python 3.8 - AzureML"
    },
    "language_info": {
      "name": "python",
      "version": "3.8.5",
      "mimetype": "text/x-python",
      "codemirror_mode": {
        "name": "ipython",
        "version": 3
      },
      "pygments_lexer": "ipython3",
      "nbconvert_exporter": "python",
      "file_extension": ".py"
    },
    "kernel_info": {
      "name": "python3-azureml"
    },
    "nteract": {
      "version": "nteract-front-end@1.0.0"
    },
    "microsoft": {
      "host": {
        "AzureML": {
          "notebookHasBeenCompleted": true
        }
      }
    },
    "execution":{
      "timeout": 1800
    }
  },
  "nbformat": 4,
  "nbformat_minor": 2
}
