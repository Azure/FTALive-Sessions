{
  "cells": [
    {
      "cell_type": "markdown",
      "source": [
        "# Logging with AzureML SDK and MLFlow"
      ],
      "metadata": {}
    },
    {
      "cell_type": "code",
      "source": [
        "from azure.identity import DefaultAzureCredential\n",
        "from azure.ai.ml import MLClient\n",
        "\n",
        "\n",
        "credential = DefaultAzureCredential()\n",
        "ml_client = None\n",
        "try:\n",
        "    ml_client = MLClient.from_config(credential)\n",
        "except Exception as ex:\n",
        "    print(ex)\n",
        "    # Enter details of your AML workspace\n",
        "    subscription_id = \"<Subscription ID>\"\n",
        "    resource_group = \"<ResourceGroup Name>\"\n",
        "    workspace = \"<<WorkspaceName>\"\n",
        "    ml_client = MLClient(credential, subscription_id, resource_group, workspace)\n",
        "print(ml_client)"
      ],
      "outputs": [
        {
          "output_type": "stream",
          "name": "stdout",
          "text": "We could not find config.json in: . or in its parent directories. \nMLClient(credential=<azure.identity._credentials.default.DefaultAzureCredential object at 0x7fb552d55220>,\n         subscription_id=25758354-2fe7-426a-be0e-1ad20058340d,\n         resource_group_name=azureml-live,\n         workspace_name=ftaliveazureml)\n"
        }
      ],
      "execution_count": 2,
      "metadata": {}
    },
    {
      "cell_type": "code",
      "source": [
        "import mlflow\n",
        "\n",
        "# Obtain the tracking URL from MLClient and set the MLFlow tracking URI\n",
        "MLFLOW_TRACKING_URI = ml_client.workspaces.get(\n",
        "    name=ml_client.workspace_name\n",
        ").mlflow_tracking_uri\n",
        "\n",
        "mlflow.set_tracking_uri(MLFLOW_TRACKING_URI)\n",
        "\n",
        "print(\"\\nCurrent tracking uri: {}\".format(mlflow.get_tracking_uri()))\n"
      ],
      "outputs": [
        {
          "output_type": "stream",
          "name": "stdout",
          "text": "\nCurrent tracking uri: azureml://southeastasia.api.azureml.ms/mlflow/v1.0/subscriptions/25758354-2fe7-426a-be0e-1ad20058340d/resourceGroups/azureml-live/providers/Microsoft.MachineLearningServices/workspaces/ftaliveazureml\n"
        }
      ],
      "execution_count": 3,
      "metadata": {}
    },
    {
      "cell_type": "code",
      "source": [
        "from mlflow.tracking.client import MlflowClient\n",
        "\n",
        "# Initialize MLFlow client\n",
        "mlflow_client = MlflowClient()\n",
        "\n",
        "# Create a new experiment if one doesn't already exist\n",
        "mlflow.set_experiment(\"mlflow-experiment\")\n",
        "\n",
        "# Start the run, log metrics, end the run\n",
        "mlflow_run = mlflow.start_run()\n",
        "mlflow.log_metric('mymetric', 1)\n",
        "mlflow.end_run()"
      ],
      "outputs": [],
      "execution_count": 11,
      "metadata": {}
    },
    {
      "cell_type": "markdown",
      "source": [
        "### Integrating with a Training script to log Metrics and Parameters"
      ],
      "metadata": {}
    },
    {
      "cell_type": "code",
      "source": [
        "from sklearn.pipeline import make_pipeline\n",
        "from sklearn.preprocessing import StandardScaler\n",
        "from sklearn.linear_model import LassoLars\n",
        "from sklearn import datasets\n",
        "\n",
        "with mlflow.start_run():\n",
        "    mlflow.sklearn.autolog()\n",
        "    # Normal sklearn training code\n",
        "    alpha_param = 0.9\n",
        "    diabetes = datasets.load_diabetes()\n",
        "    X = diabetes.data\n",
        "    y = diabetes.target\n",
        "    pipe = make_pipeline(StandardScaler(), LassoLars(alpha=alpha_param))\n",
        "    pipe.fit(X, y)\n",
        "    # Track using the MLflow API\n",
        "    mlflow.log_metric(\"custom_metric\", 0.9)\n",
        "    # MLflow already tracks lassolars__alpha\n",
        "    mlflow.log_param(\"alpha\", alpha_param)"
      ],
      "outputs": [
        {
          "output_type": "stream",
          "name": "stderr",
          "text": "2022/06/15 10:05:15 WARNING mlflow.utils: Truncated the value of the key `steps`. Truncated value: `[('standardscaler', StandardScaler(copy=True, with_mean=True, with_std=True)), ('lassolars', LassoLars(alpha=0.9, copy_X=True, eps=2.220446049250313e-16, fit_intercept=True,\n          fit_path=True, max_iter=500, normalize=True, positive=False,\n  ...`\n2022/06/15 10:05:21 WARNING mlflow.utils.autologging_utils: Encountered unexpected error during sklearn autologging: ('cannot represent an object', OrderedDict([('name', 'mlflow-env'), ('channels', ['conda-forge']), ('dependencies', ['python=3.8.5', 'pip', {'pip': ['mlflow', 'cloudpickle==1.6.0', 'lz4==4.0.0', 'psutil==5.9.0', 'scikit-learn==0.22.1', 'uuid==1.30']}])]))\n"
        }
      ],
      "execution_count": 12,
      "metadata": {}
    }
  ],
  "metadata": {
    "kernelspec": {
      "name": "python38-azureml",
      "language": "python",
      "display_name": "Python 3.8 - AzureML"
    },
    "language_info": {
      "name": "python",
      "version": "3.8.5",
      "mimetype": "text/x-python",
      "codemirror_mode": {
        "name": "ipython",
        "version": 3
      },
      "pygments_lexer": "ipython3",
      "nbconvert_exporter": "python",
      "file_extension": ".py"
    },
    "nteract": {
      "version": "nteract-front-end@1.0.0"
    },
    "kernel_info": {
      "name": "python38-azureml"
    }
  },
  "nbformat": 4,
  "nbformat_minor": 0
}