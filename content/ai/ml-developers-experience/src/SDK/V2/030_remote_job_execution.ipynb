{
  "cells": [
    {
      "cell_type": "markdown",
      "source": [
        "# Remote execution on compute cluster"
      ],
      "metadata": {}
    },
    {
      "cell_type": "code",
      "source": [
        "from azure.identity import DefaultAzureCredential\n",
        "from azure.ai.ml import MLClient\n",
        "\n",
        "\n",
        "credential = DefaultAzureCredential()\n",
        "ml_client = None\n",
        "try:\n",
        "    ml_client = MLClient.from_config(credential)\n",
        "except Exception as ex:\n",
        "    print(ex)\n",
        "    # Enter details of your AML workspace\n",
        "    subscription_id = \"<Subscription ID>\"\n",
        "    resource_group = \"<ResourceGroup Name>\"\n",
        "    workspace = \"<<WorkspaceName>\"\n",
        "    ml_client = MLClient(credential, subscription_id, resource_group, workspace)\n",
        "print(ml_client)"
      ],
      "outputs": [
        {
          "output_type": "stream",
          "name": "stdout",
          "text": "We could not find config.json in: . or in its parent directories. \nMLClient(credential=<azure.identity._credentials.default.DefaultAzureCredential object at 0x7f5a2d62f610>,\n         subscription_id=25758354-2fe7-426a-be0e-1ad20058340d,\n         resource_group_name=azureml-live,\n         workspace_name=ftaliveazureml)\n"
        }
      ],
      "execution_count": 5,
      "metadata": {}
    },
    {
      "cell_type": "code",
      "source": [
        "#Get the compute target\n",
        "cluster_name = 'cpu-cluster'\n",
        "compute_target = ml_client.compute.get(name=cluster_name)"
      ],
      "outputs": [],
      "execution_count": 18,
      "metadata": {}
    },
    {
      "cell_type": "markdown",
      "source": [
        "#### Command Job"
      ],
      "metadata": {}
    },
    {
      "cell_type": "code",
      "source": [
        "#Command Job with no input data parameter\n",
        "from azure.ai.ml import command, Input\n",
        "\n",
        "diabetes_train_cmd = command(\n",
        "    code=\"./030_scripts\",  # local path where the code is stored\n",
        "    command=\"python sklearn_vanilla_train.py --alpha ${{inputs.alpha}}\",\n",
        "    environment=\"AzureML-sklearn-0.24-ubuntu18.04-py37-cpu@latest\",\n",
        "    compute=compute_target.name,\n",
        "    display_name=\"sklearn-diabetes-train-vanilla\",\n",
        "    inputs={\n",
        "        \"alpha\": 0.01\n",
        "    },\n",
        "    \n",
        "    # description,\n",
        "    # experiment_name\n",
        ")\n",
        "\n",
        "command()\n",
        "\n",
        "# submit the command job\n",
        "command_job = ml_client.jobs.create_or_update(diabetes_train_cmd, experiment_name=\"remote-sklearn-diabetes\")"
      ],
      "outputs": [],
      "execution_count": 11,
      "metadata": {}
    },
    {
      "cell_type": "markdown",
      "source": [
        "#### Custom Environment"
      ],
      "metadata": {}
    },
    {
      "cell_type": "code",
      "source": [
        "#Custom Environment\n",
        "from azure.ai.ml.entities import Environment, BuildContext\n",
        "\n",
        "diabetes_env = Environment(image=\"mcr.microsoft.com/azureml/openmpi3.1.2-ubuntu18.04\",\n",
        "    conda_file=\"030_scripts/conda_env.yml\",\n",
        "    name=\"diabetes-env\",\n",
        "    description=\"Environment created from a Docker image plus Conda environment.\",\n",
        ")"
      ],
      "outputs": [],
      "execution_count": 12,
      "metadata": {}
    },
    {
      "cell_type": "code",
      "source": [
        "#Command Job with custom environment\n",
        "\n",
        "env_command_job = command(\n",
        "    code=\"./030_scripts\",  # local path where the code is stored\n",
        "    command=\"python sklearn_vanilla_train.py --alpha ${{inputs.alpha}}\",\n",
        "    environment=diabetes_env,\n",
        "    compute=compute_target.name,\n",
        "    display_name=\"sklearn-diabetes-custom-env\",\n",
        "    inputs={\n",
        "        \"alpha\": 0.01\n",
        "    },\n",
        "    \n",
        "    # description,\n",
        "    # experiment_name\n",
        ")\n",
        "\n",
        "custom_env_cmd_job = ml_client.jobs.create_or_update(env_command_job, experiment_name=\"remote-sklearn-diabetes\")"
      ],
      "outputs": [],
      "execution_count": 13,
      "metadata": {}
    },
    {
      "cell_type": "code",
      "source": [
        "#Register the environment\n",
        "ml_client.environments.create_or_update(diabetes_env)"
      ],
      "outputs": [
        {
          "output_type": "execute_result",
          "execution_count": 14,
          "data": {
            "text/plain": "Environment({'is_anonymous': False, 'auto_increment_version': False, 'name': 'diabetes-env', 'description': 'Environment created from a Docker image plus Conda environment.', 'tags': {}, 'properties': {}, 'id': '/subscriptions/25758354-2fe7-426a-be0e-1ad20058340d/resourceGroups/azureml-live/providers/Microsoft.MachineLearningServices/workspaces/ftaliveazureml/environments/diabetes-env/versions/2022-06-22-08-37-41-8372981', 'base_path': './', 'creation_context': <azure.ai.ml._restclient.v2022_05_01.models._models_py3.SystemData object at 0x7f5a2cce5cd0>, 'serialize': <msrest.serialization.Serializer object at 0x7f5a2cccfaf0>, 'version': '2022-06-22-08-37-41-8372981', 'latest_version': None, 'conda_file': OrderedDict([('channels', ['conda-forge']), ('dependencies', ['python=3.8', 'pip=21.2.4', OrderedDict([('pip', ['numpy==1.21.2', 'scipy==1.7.1', 'pandas==1.3.0', 'scikit-learn==0.24.2', 'adlfs==2021.9.1', 'fsspec==2021.8.1', 'xgboost==1.4.2', 'lightgbm==3.2.1', 'mlflow', 'azureml-mlflow==1.34.0', 'matplotlib==3.4.3', 'tqdm==4.62.2', 'joblib==1.0.1', 'jupyter==1.0.0', 'ipykernel==6.4.1', 'papermill==2.3.3'])])]), ('name', 'sklearn-env-example')]), 'image': 'mcr.microsoft.com/azureml/openmpi3.1.2-ubuntu18.04', 'build': None, 'inference_config': None, 'os_type': 'Linux', 'arm_type': 'environment_version', 'conda_file_path': None, 'path': None, 'upload_hash': None, 'translated_conda_file': None})"
          },
          "metadata": {}
        }
      ],
      "execution_count": 14,
      "metadata": {}
    },
    {
      "cell_type": "markdown",
      "source": [
        "#### Consuming Registered Datasets in Command Jobs"
      ],
      "metadata": {}
    },
    {
      "cell_type": "code",
      "source": [
        "##Passing Data to command Jobs\n",
        "\n",
        "file_input = Input(type=\"uri_file\",\n",
        "            path=\"https://azuremlexamples.blob.core.windows.net/datasets/diabetes.csv\")\n",
        "\n",
        "asset_input = Input(type = \"uri_file\",\n",
        "            path= \"azureml:diabetes-dataset-uri-file:3\",\n",
        "            mode= \"download\")\n",
        "\n",
        "mltable_input = Input( type = \"mltable\",\n",
        "            path= \"azureml:diabetes-dataset-mltable2:1\",\n",
        "            mode= \"download\")\n",
        "\n",
        "\n",
        "# create the command\n",
        "data_command_job = command(\n",
        "    code=\"./030_scripts\",  # local path where the code is stored\n",
        "    command=\"python sklearn_data_train.py --diabetes-csv ${{inputs.diabetes}}\",\n",
        "    inputs={\n",
        "        \"diabetes\": asset_input\n",
        "    },\n",
        "    environment=\"AzureML-sklearn-0.24-ubuntu18.04-py37-cpu@latest\",\n",
        "    compute=compute_target.name,\n",
        "    display_name=\"sklearn-diabetes-InputData\",\n",
        "    # description,\n",
        "    # experiment_name\n",
        ")\n",
        "\n",
        "ml_client.jobs.create_or_update(data_command_job, experiment_name=\"remote-sklearn-diabetes\")"
      ],
      "outputs": [
        {
          "output_type": "execute_result",
          "execution_count": 15,
          "data": {
            "text/html": "<table style=\"width:100%\"><tr><th>Experiment</th><th>Name</th><th>Type</th><th>Status</th><th>Details Page</th></tr><tr><td>remote-sklearn-diabetes</td><td>loving_brain_k0ckqlz450</td><td>command</td><td>Starting</td><td><a href=\"https://ml.azure.com/runs/loving_brain_k0ckqlz450?wsid=/subscriptions/25758354-2fe7-426a-be0e-1ad20058340d/resourcegroups/azureml-live/workspaces/ftaliveazureml&amp;tid=72f988bf-86f1-41af-91ab-2d7cd011db47\" target=\"_blank\" rel=\"noopener\">Link to Azure Machine Learning studio</a></td></tr></table>",
            "text/plain": "CommandJob({'parameters': {}, 'type': 'command', 'status': 'Starting', 'log_files': None, 'name': 'loving_brain_k0ckqlz450', 'description': None, 'tags': {}, 'properties': {'_azureml.ComputeTargetType': 'amlctrain', 'ContentSnapshotId': 'b35fa26d-732a-4753-9fdc-f10346ed9c00'}, 'id': '/subscriptions/25758354-2fe7-426a-be0e-1ad20058340d/resourceGroups/azureml-live/providers/Microsoft.MachineLearningServices/workspaces/ftaliveazureml/jobs/loving_brain_k0ckqlz450', 'base_path': './', 'creation_context': <azure.ai.ml._restclient.v2022_02_01_preview.models._models_py3.SystemData object at 0x7f5a2cd6aac0>, 'serialize': <msrest.serialization.Serializer object at 0x7f5a2cd36be0>, 'command': 'python sklearn_data_train.py --diabetes-csv ${{inputs.diabetes}}', 'code': '/subscriptions/25758354-2fe7-426a-be0e-1ad20058340d/resourceGroups/azureml-live/providers/Microsoft.MachineLearningServices/workspaces/ftaliveazureml/codes/fc99f027-7330-419b-b276-ba4e561b70f6/versions/1', 'environment_variables': {}, 'environment': 'AzureML-sklearn-0.24-ubuntu18.04-py37-cpu:37', 'distribution': None, 'resources': {'instance_count': 1, 'properties': {}}, 'display_name': 'sklearn-diabetes-InputData', 'experiment_name': 'remote-sklearn-diabetes', 'compute': 'cpu-cluster', 'services': {'Tracking': <azure.ai.ml._restclient.v2022_02_01_preview.models._models_py3.JobService object at 0x7f5a2cd6a3a0>, 'Studio': <azure.ai.ml._restclient.v2022_02_01_preview.models._models_py3.JobService object at 0x7f5a2cd6abb0>}, 'outputs': {'default': {'type': 'uri_folder', 'path': 'azureml://datastores/workspaceartifactstore/ExperimentRun/dcid.loving_brain_k0ckqlz450', 'mode': 'rw_mount'}}, 'inputs': {'diabetes': {'type': 'uri_file', 'path': 'diabetes-dataset-uri-file:3', 'mode': 'download'}}, 'limits': None, 'identity': None})"
          },
          "metadata": {}
        }
      ],
      "execution_count": 15,
      "metadata": {}
    },
    {
      "cell_type": "markdown",
      "source": [
        "#### HyperParameter Sweeping"
      ],
      "metadata": {}
    },
    {
      "cell_type": "code",
      "source": [
        "#HyperParameter Sweeping\n",
        "from azure.ai.ml.sweep import Choice, Uniform, MedianStoppingPolicy\n",
        "\n",
        "sweep_command_job = diabetes_train_cmd(alpha = Uniform(min_value=0.01, max_value=0.2))\n",
        "\n",
        "# apply the sweep parameter to obtain the sweep_job\n",
        "sweep_job = sweep_command_job.sweep(\n",
        "    compute=\"cpu-cluster\",\n",
        "    sampling_algorithm=\"random\",\n",
        "    primary_metric=\"training_rmse\",\n",
        "    goal=\"Minimize\",\n",
        ")\n",
        "# submit the sweep\n",
        "#returned_sweep_job = ml_client.jobs.create_or_update(sweep_job, experiment_name=\"remote-sklearn-diabetes\")\n",
        "\n",
        "\n",
        "\n"
      ],
      "outputs": [],
      "execution_count": 17,
      "metadata": {}
    },
    {
      "cell_type": "markdown",
      "source": [
        "Refer for more on Job execution using the SDK: https://github.com/Azure/azureml-examples/tree/main/sdk/jobs/single-step"
      ],
      "metadata": {}
    }
  ],
  "metadata": {
    "kernel_info": {
      "name": "python3"
    },
    "kernelspec": {
      "name": "python3",
      "language": "python",
      "display_name": "Python 3 (ipykernel)"
    },
    "language_info": {
      "name": "python",
      "version": "3.8.5",
      "mimetype": "text/x-python",
      "codemirror_mode": {
        "name": "ipython",
        "version": 3
      },
      "pygments_lexer": "ipython3",
      "nbconvert_exporter": "python",
      "file_extension": ".py"
    },
    "nteract": {
      "version": "nteract-front-end@1.0.0"
    },
    "orig_nbformat": 4,
    "vscode": {
      "interpreter": {
        "hash": "6d65a8c07f5b6469e0fc613f182488c0dccce05038bbda39e5ac9075c0454d11"
      }
    }
  },
  "nbformat": 4,
  "nbformat_minor": 0
}