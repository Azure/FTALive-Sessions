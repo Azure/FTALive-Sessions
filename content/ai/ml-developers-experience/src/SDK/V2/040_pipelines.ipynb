{
  "cells": [
    {
      "cell_type": "markdown",
      "metadata": {},
      "source": [
        "# Pipelines with AzureML Components"
      ]
    },
    {
      "cell_type": "code",
      "execution_count": 1,
      "metadata": {},
      "outputs": [
        {
          "name": "stdout",
          "output_type": "stream",
          "text": [
            "We could not find config.json in: . or in its parent directories. \n",
            "MLClient(credential=<azure.identity._credentials.default.DefaultAzureCredential object at 0x7f6bfd8aad90>,\n",
            "         subscription_id=25758354-2fe7-426a-be0e-1ad20058340d,\n",
            "         resource_group_name=azureml-live,\n",
            "         workspace_name=ftaliveazureml)\n"
          ]
        }
      ],
      "source": [
        "from azure.identity import DefaultAzureCredential\n",
        "from azure.ai.ml import MLClient\n",
        "\n",
        "\n",
        "credential = DefaultAzureCredential()\n",
        "ml_client = None\n",
        "try:\n",
        "    ml_client = MLClient.from_config(credential)\n",
        "except Exception as ex:\n",
        "    print(ex)\n",
        "    # Enter details of your AML workspace\n",
        "    subscription_id = \"<Subscription ID>\"\n",
        "    resource_group = \"<ResourceGroup Name>\"\n",
        "    workspace = \"<<WorkspaceName>\"\n",
        "    ml_client = MLClient(credential, subscription_id, resource_group, workspace)\n",
        "print(ml_client)"
      ]
    },
    {
      "cell_type": "code",
      "execution_count": 2,
      "metadata": {},
      "outputs": [],
      "source": [
        "#Get the compute target\n",
        "cluster_name = 'cpu-cluster'\n",
        "compute_target = ml_client.compute.get(name=cluster_name)"
      ]
    },
    {
      "cell_type": "code",
      "execution_count": 6,
      "metadata": {},
      "outputs": [],
      "source": [
        "##Pipelines with YAML Components\n",
        "from azure.ai.ml.dsl import pipeline\n",
        "from azure.ai.ml import load_component\n",
        "from azure.ai.ml import Input\n",
        "\n",
        "\n",
        "parent_dir = \"040_scripts\"\n",
        "\n",
        "# 1. Load components\n",
        "prepare_data = load_component(path=parent_dir + \"/prep_data.yml\")\n",
        "train_model = load_component(path=parent_dir + \"/train_model.yml\")\n",
        "register_model = load_component(path=parent_dir+ \"/register_model.yml\")\n",
        "\n",
        "\n",
        "\n",
        "# 2. Construct pipeline\n",
        "@pipeline()\n",
        "def diabetes_data_regression(pipeline_job_input):\n",
        "    \"\"\"Diabetes Training Sample Pipeline\"\"\"\n",
        "    prepare_sample_data = prepare_data(raw_data=pipeline_job_input)\n",
        "    train_model_data = train_model(\n",
        "        training_data=prepare_sample_data.outputs.prep_data, learning_rate = 0.01\n",
        "    )\n",
        "    register_train_model = register_model(model_input_path = train_model_data.outputs.model_output, model_name = \"Diabetest-LGBM-Model\")\n",
        "\n",
        "\n",
        "    return{\n",
        "        \"pipeline_job_prepped_data\": prepare_sample_data.outputs.prep_data,\n",
        "        \"pipeline_job_trained_model\": train_model_data.outputs.model_output\n",
        "    }\n",
        "\n",
        "\n",
        "pipeline_job = diabetes_data_regression( Input(type= \"uri_file\", path = \"azureml:diabetes-dataset-uri-file:3\", mode= \"ro_mount\"))\n",
        "pipeline_job.outputs.pipeline_job_prepped_data.mode = \"rw_mount\"\n",
        "# set pipeline level compute\n",
        "pipeline_job.settings.default_compute = compute_target.name"
      ]
    },
    {
      "cell_type": "code",
      "execution_count": 7,
      "metadata": {},
      "outputs": [
        {
          "name": "stderr",
          "output_type": "stream",
          "text": [
            "\u001b[32mUploading src (0.0 MBs): 100%|██████████████████████████████████████████████████████████████████████████████████████████████████████████████████████████████████████████████████████████████████████████████████████████████████████████████████████████████████████████████████████████████████████████████████████████████████████████████████████████████████████████████████████████████████████████████████████████████████████████████████████████████████████████████████████████████████████████████████████████████████████████████████████████████████████████████████████████████████████████████████████████████████████████████████████████████████████████████████████████████████████████████████████████████████████████████████████████████████████████████████████████████████████████████████████████████████████████████████████████████████████████████████████████████████████████████████████████████████████████████████████████████████████████████████████████████████| 4207/4207 [00:00<00:00, 64478.00it/s]\u001b[0m\n",
            "\u001b[39m\n",
            "\n"
          ]
        }
      ],
      "source": [
        "# submit pipeline to workspace\n",
        "pipeline_job = ml_client.jobs.create_or_update(\n",
        "    pipeline_job, experiment_name=\"pipeline-sample\"\n",
        ")\n"
      ]
    },
    {
      "cell_type": "code",
      "execution_count": 8,
      "metadata": {},
      "outputs": [
        {
          "name": "stdout",
          "output_type": "stream",
          "text": [
            "RunId: upbeat_crayon_r97cgf9v15\n",
            "Web View: https://ml.azure.com/runs/upbeat_crayon_r97cgf9v15?wsid=/subscriptions/25758354-2fe7-426a-be0e-1ad20058340d/resourcegroups/azureml-live/workspaces/ftaliveazureml\n",
            "\n",
            "Streaming logs/azureml/executionlogs.txt\n",
            "========================================\n",
            "\n",
            "[2022-06-22 08:59:35Z] Submitting 1 runs, first five are: 9cbfdc63:a76331b6-67c1-40b7-935f-6a01b8ee92e9\n",
            "[2022-06-22 09:00:30Z] Completing processing run id a76331b6-67c1-40b7-935f-6a01b8ee92e9.\n",
            "[2022-06-22 09:00:31Z] Submitting 1 runs, first five are: fcca4c52:839e8684-8c42-47e1-a8bb-db422e1bf034\n",
            "[2022-06-22 09:01:22Z] Completing processing run id 839e8684-8c42-47e1-a8bb-db422e1bf034.\n",
            "[2022-06-22 09:01:22Z] Submitting 1 runs, first five are: d45bf959:10509ded-705f-4596-ab20-37a1eee17e22\n",
            "[2022-06-22 09:01:49Z] Completing processing run id 10509ded-705f-4596-ab20-37a1eee17e22.\n",
            "\n",
            "Execution Summary\n",
            "=================\n",
            "RunId: upbeat_crayon_r97cgf9v15\n",
            "Web View: https://ml.azure.com/runs/upbeat_crayon_r97cgf9v15?wsid=/subscriptions/25758354-2fe7-426a-be0e-1ad20058340d/resourcegroups/azureml-live/workspaces/ftaliveazureml\n",
            "\n"
          ]
        }
      ],
      "source": [
        "# Wait until the job completes\n",
        "ml_client.jobs.stream(pipeline_job.name)"
      ]
    },
    {
      "cell_type": "markdown",
      "metadata": {},
      "source": [
        "Refer more on Pipelines here: https://github.com/Azure/azureml-examples/tree/main/sdk/jobs/pipelines"
      ]
    }
  ],
  "metadata": {
    "kernel_info": {
      "name": "python3"
    },
    "kernelspec": {
      "display_name": "Python 3",
      "language": "python",
      "name": "python3"
    },
    "language_info": {
      "codemirror_mode": {
        "name": "ipython",
        "version": 3
      },
      "file_extension": ".py",
      "mimetype": "text/x-python",
      "name": "python",
      "nbconvert_exporter": "python",
      "pygments_lexer": "ipython3",
      "version": "3.8.5"
    },
    "nteract": {
      "version": "nteract-front-end@1.0.0"
    },
    "orig_nbformat": 4,
    "vscode": {
      "interpreter": {
        "hash": "6d65a8c07f5b6469e0fc613f182488c0dccce05038bbda39e5ac9075c0454d11"
      }
    }
  },
  "nbformat": 4,
  "nbformat_minor": 0
}
