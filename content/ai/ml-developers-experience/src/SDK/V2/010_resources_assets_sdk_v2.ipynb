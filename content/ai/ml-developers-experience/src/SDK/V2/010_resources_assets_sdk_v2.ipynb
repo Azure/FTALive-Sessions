{
  "cells": [
    {
      "cell_type": "markdown",
      "source": [
        "# Basic AzureML SDK V2\r\n",
        "Azure Machine Learning provides multiple ways to work ML Model life cycle. In this article, you'll learn how to work with Azure Machine Learning several resources and assets. These resources and assets are needed to run any job (i.e. train your Model). We will be using the following method to work with the resoures and assets:\r\n",
        "\r\n",
        " - Python SDK v2 for Azure Machine Learning.\r\n"
      ],
      "metadata": {}
    },
    {
      "cell_type": "markdown",
      "source": [
        "## Create Workspace\r\n",
        "The workspace is the top-level resource for Azure Machine Learning, providing a centralized place to work with all the artifacts you create when you use Azure Machine Learning. The workspace keeps a history of all jobs, including logs, metrics, output, and a snapshot of your scripts. The workspace stores references to resources like datastores and compute. It also holds all assets like models, environments, components and data asset.\r\n"
      ],
      "metadata": {
        "nteract": {
          "transient": {
            "deleting": false
          }
        }
      }
    },
    {
      "cell_type": "markdown",
      "source": [
        "This [Jupyter notebook](https://learn.microsoft.com/en-us/azure/machine-learning/concept-azure-machine-learning-v2?tabs=sdk) shows more ways to create an Azure ML workspace using SDK v2."
      ],
      "metadata": {
        "nteract": {
          "transient": {
            "deleting": false
          }
        }
      }
    },
    {
      "cell_type": "markdown",
      "source": [
        "### Use MLClient\r\n",
        "To create the workspace, you first need to create MLClient object. We use the [default azure authentication](https://docs.microsoft.com/en-us/python/api/azure-identity/azure.identity.defaultazurecredential?view=azure-python), our subscription id and the resource group to create the MLCLient object"
      ],
      "metadata": {
        "nteract": {
          "transient": {
            "deleting": false
          }
        }
      }
    },
    {
      "cell_type": "code",
      "source": [
        "# Enter details of your subscription\r\n",
        "subscription_id = \"xxx\"\r\n",
        "resource_group = \"xxx\"\r\n",
        "\r\n",
        "# get a handle to the subscription\r\n",
        "\r\n",
        "from azure.ai.ml import MLClient\r\n",
        "from azure.identity import DefaultAzureCredential\r\n",
        "\r\n",
        "ml_client = MLClient(DefaultAzureCredential(), subscription_id, resource_group)"
      ],
      "outputs": [],
      "execution_count": null,
      "metadata": {
        "jupyter": {
          "source_hidden": false,
          "outputs_hidden": false
        },
        "nteract": {
          "transient": {
            "deleting": false
          }
        },
        "gather": {
          "logged": 1669177921205
        }
      }
    },
    {
      "cell_type": "code",
      "source": [
        "from azure.ai.ml.entities import Workspace\r\n",
        "ws_basic = Workspace(\r\n",
        "    name=\"xxx\",\r\n",
        "    location=\"Westus2\", # Azure region (location) of workspace\r\n",
        "    display_name=\"Meer Alam workspace-example\",\r\n",
        "    description=\"This example shows how to create a basic workspace\"\r\n",
        ")\r\n",
        "ml_client.workspaces.begin_create(ws_basic) # use MLClient to connect to the subscription and resource group and create workspace"
      ],
      "outputs": [],
      "execution_count": null,
      "metadata": {
        "jupyter": {
          "source_hidden": false,
          "outputs_hidden": false
        },
        "nteract": {
          "transient": {
            "deleting": false
          }
        },
        "gather": {
          "logged": 1669166588470
        }
      }
    },
    {
      "cell_type": "code",
      "source": [
        "from azure.identity import DefaultAzureCredential\n",
        "from azure.ai.ml import MLClient\n",
        "\n",
        "\n",
        "credential = DefaultAzureCredential()\n",
        "ml_client = None\n",
        "try:\n",
        "    ml_client = MLClient.from_config(credential)\n",
        "except Exception as ex:\n",
        "    print(ex)\n",
        "    # Enter details of your AML workspace\n",
        "    subscription_id = \"<Subscription ID>\"\n",
        "    resource_group = \"<ResourceGroup Name>\"\n",
        "    workspace = \"<<WorkspaceName>\"\n",
        "    ml_client = MLClient(credential, subscription_id, resource_group, workspace)\n",
        "print(ml_client)\n",
        "\n",
        "##Save the Workspace Config ??? Documentation points to Workspace.write_config but could not find any definition for the same"
      ],
      "outputs": [],
      "execution_count": null,
      "metadata": {}
    },
    {
      "cell_type": "markdown",
      "source": [
        "If workspace already exists, we can directly connect (get a handle) to the workspace"
      ],
      "metadata": {
        "nteract": {
          "transient": {
            "deleting": false
          }
        }
      }
    },
    {
      "cell_type": "code",
      "source": [
        "from azure.ai.ml import MLClient\r\n",
        "from azure.identity import DefaultAzureCredential\r\n",
        "credential = DefaultAzureCredential()\r\n",
        "ml_client = None\r\n",
        "\r\n",
        "# authentication package\r\n",
        "from azure.identity import DefaultAzureCredential\r\n",
        "try:\r\n",
        "    ml_client = MLClient.from_config(credential)\r\n",
        "except Exception as ex:\r\n",
        "    print(ex)\r\n",
        "    # Enter details of your AML workspace\r\n",
        "    subscription_id=\"xxxx\"\r\n",
        "    resource_group_name=\"xxx\"\r\n",
        "    workspace_name=\"xxx\"\r\n",
        "   # ml_client = MLClient(credential, subscription_id, resource_group, workspace)\r\n",
        "\r\n",
        "    # get a handle to the workspace\r\n",
        "    ml_client = MLClient(\r\n",
        "        #InteractiveBrowserCredential(),\r\n",
        "        credential,\r\n",
        "        subscription_id,\r\n",
        "        resource_group_name,\r\n",
        "        workspace_name\r\n",
        "    )"
      ],
      "outputs": [],
      "execution_count": null,
      "metadata": {
        "jupyter": {
          "source_hidden": false,
          "outputs_hidden": false
        },
        "nteract": {
          "transient": {
            "deleting": false
          }
        },
        "gather": {
          "logged": 1669177928361
        }
      }
    },
    {
      "cell_type": "markdown",
      "source": [
        "# Computes\r\n",
        "We can review the compute instances we have. We can create one, as needed, if do not have one"
      ],
      "metadata": {}
    },
    {
      "cell_type": "code",
      "source": [
        "#List Compute targets in the Workspace\n",
        "for compute in ml_client.compute.list():\n",
        "    print(f\"Compute {compute.name} is a {compute.type}\")"
      ],
      "outputs": [],
      "execution_count": null,
      "metadata": {
        "gather": {
          "logged": 1669164781280
        }
      }
    },
    {
      "cell_type": "markdown",
      "source": [
        "Let us create a compute cluster, where we can submit a job"
      ],
      "metadata": {
        "nteract": {
          "transient": {
            "deleting": false
          }
        }
      }
    },
    {
      "cell_type": "code",
      "source": [
        "cpu_compute_target = AmlCompute(\r\n",
        "    name=\"cpu-cluster\",\r\n",
        "    type=\"amlcompute\",\r\n",
        "    size=\"STANDARD_DS3_v2\",\r\n",
        "    location=\"westus2\",\r\n",
        "    min_instances=0,\r\n",
        "    max_instances=2,\r\n",
        "    idle_time_before_scale_down=120,\r\n",
        ")\r\n",
        "ml_client.begin_create_or_update(cpu_compute_target)"
      ],
      "outputs": [],
      "execution_count": null,
      "metadata": {
        "jupyter": {
          "source_hidden": false,
          "outputs_hidden": false
        },
        "nteract": {
          "transient": {
            "deleting": false
          }
        }
      }
    },
    {
      "cell_type": "markdown",
      "source": [
        "Alternatively we can use the following technique to create our compute cluster"
      ],
      "metadata": {
        "nteract": {
          "transient": {
            "deleting": false
          }
        }
      }
    },
    {
      "cell_type": "code",
      "source": [
        "from azure.ai.ml.entities import AmlCompute\n",
        "\n",
        "# provision a small compute cluster\n",
        "cpu_compute_target = \"cpu-cluster\"\n",
        "\n",
        "try:\n",
        "    cluster = ml_client.compute.get(cpu_compute_target)\n",
        "except Exception:\n",
        "    print(\"Creating a new cpu compute target...\")\n",
        "    compute = AmlCompute(\n",
        "        name=cpu_compute_target, size=\"STANDARD_D2_V2\", min_instances=0, max_instances=4\n",
        "    )\n",
        "    cluster = ml_client.compute.begin_create_or_update(compute)\n",
        "\n",
        "print(f\"Got reference to cluster: {cluster.name}, Type: {cluster.type}\")"
      ],
      "outputs": [],
      "execution_count": null,
      "metadata": {
        "gather": {
          "logged": 1669171774166
        }
      }
    },
    {
      "cell_type": "markdown",
      "source": [
        "Refer for more examples on Compute: https://github.com/Azure/azureml-examples/blob/main/sdk/resources/compute/compute.ipynb"
      ],
      "metadata": {}
    },
    {
      "cell_type": "markdown",
      "source": [
        "# Datastores"
      ],
      "metadata": {}
    },
    {
      "cell_type": "code",
      "source": [
        "#List existing Datastorses in the Workspace and select the default store\n",
        "\n",
        "print([dstore.name for dstore in ml_client.datastores.list()])\n",
        "\n",
        "dstore_name = \"workspaceblobstore\"\n",
        "\n",
        "dstore = ml_client.datastores.get(dstore_name)\n",
        "# OR \n",
        "dstore = ml_client.datastores.get_default()\n",
        "\n",
        "print(f\"Default Datastore name: {dstore.name}, Type: {dstore.type}\")"
      ],
      "outputs": [],
      "execution_count": null,
      "metadata": {
        "gather": {
          "logged": 1669177330893
        }
      }
    },
    {
      "cell_type": "markdown",
      "source": [
        "This [Jupyter notebook](https://github.com/Azure/azureml-examples/blob/main/sdk/python/resources/datastores/datastore.ipynb) shows more ways to create datastores using SDK v2."
      ],
      "metadata": {
        "nteract": {
          "transient": {
            "deleting": false
          }
        }
      }
    },
    {
      "cell_type": "code",
      "source": [
        "# import required libraries\r\n",
        "from azure.ai.ml import MLClient\r\n",
        "from azure.identity import DefaultAzureCredential\r\n",
        "from azure.ai.ml import command, Input\r\n",
        "from azure.ai.ml.entities import (\r\n",
        "    AzureBlobDatastore,\r\n",
        "    AzureFileDatastore,\r\n",
        "    AzureDataLakeGen1Datastore,\r\n",
        "    AzureDataLakeGen2Datastore,\r\n",
        ")\r\n",
        "from azure.ai.ml.entities._datastore.credentials import (\r\n",
        "    AccountKeyCredentials,\r\n",
        "    SasTokenCredentials,\r\n",
        "    ServicePrincipalCredentials,\r\n",
        ")\r\n",
        "from azure.ai.ml.entities import Environment"
      ],
      "outputs": [],
      "execution_count": null,
      "metadata": {
        "jupyter": {
          "source_hidden": false,
          "outputs_hidden": false
        },
        "nteract": {
          "transient": {
            "deleting": false
          }
        },
        "gather": {
          "logged": 1669177335964
        }
      }
    },
    {
      "cell_type": "code",
      "source": [
        "#Create a Datastore\n",
        "'''\n",
        "blob_datastore1 = AzureBlobDatastore(\n",
        "    name=\"blob-example\",\n",
        "    description=\"Datastore pointing to a blob container.\",\n",
        "    account_name=\"mytestblobstore\",\n",
        "    container_name=\"data-container\",\n",
        "    credentials={\n",
        "        \"account_key\": \"XXXxxxXXXxXXXXxxXXXXXxXXXXXxXxxXxXXXxXXXxXXxxxXXxxXXXxXxXXXxxXxxXXXXxxxxxXXxxxxxxXXXxXXX\"\n",
        "    },\n",
        ")\n",
        "ml_client.create_or_update(blob_datastore1)'''"
      ],
      "outputs": [],
      "execution_count": null,
      "metadata": {}
    },
    {
      "cell_type": "code",
      "source": [
        "# Example 1 - Data store with account key\r\n",
        "blob_datastore1 = AzureBlobDatastore(\r\n",
        "    name=\"blob_example\",\r\n",
        "    description=\"Datastore pointing to a blob container.\",\r\n",
        "    account_name=\"amlwalktstorage1190e2c28\",\r\n",
        "    container_name=\"azureml-blobstore-be972235-dac7-456b-bba5-5d39412d89e7\",\r\n",
        "    credentials=AccountKeyCredentials(\r\n",
        "        account_key=\"Cnq4eg3SpgN7I4+F24LaplgeLimUDNhCsxT/TWXWsaRJLrpCdvNQL7Ab4iVzhpvVkyBinSRYnJhXbM4OA4G2Yg==\"\r\n",
        "    ),\r\n",
        ")\r\n",
        "ml_client.create_or_update(blob_datastore1)\r\n"
      ],
      "outputs": [],
      "execution_count": null,
      "metadata": {
        "jupyter": {
          "source_hidden": false,
          "outputs_hidden": false
        },
        "nteract": {
          "transient": {
            "deleting": false
          }
        },
        "gather": {
          "logged": 1669172488802
        }
      }
    },
    {
      "cell_type": "markdown",
      "source": [
        "Refer for more examples on Datastores: https://github.com/Azure/azureml-examples/blob/main/sdk/resources/datastores/datastore.ipynb"
      ],
      "metadata": {}
    },
    {
      "cell_type": "markdown",
      "source": [
        "# Data Assets"
      ],
      "metadata": {}
    },
    {
      "cell_type": "code",
      "source": [
        "#Data Assets\n",
        "from azure.ai.ml.entities import Data\n",
        "from azure.ai.ml.constants import AssetTypes\n",
        "\n",
        "# Supported paths include:\n",
        "# local: './<path>'\n",
        "# blob:  'https://<account_name>.blob.core.windows.net/<container_name>/<path>'\n",
        "# ADLS gen2: 'abfss://<file_system>@<account_name>.dfs.core.windows.net/<path>/'\n",
        "# Datastore: 'azureml://datastores/<data_store_name>/paths/<path>'\n",
        "\n",
        "#E.g Datastore example \n",
        "# data_uri_path = 'azureml://datastores/workspaceblobstore/paths/samples/diabetes/v1/diabetes_raw_data.csv' (file needs to exist in the location)\n",
        "\n",
        "#Blob/http location \n",
        "data_uri_path = 'https://azuremlexamples.blob.core.windows.net/datasets/diabetes.csv'\n",
        "\n",
        "file_data_asset = Data(\n",
        "    path= data_uri_path,\n",
        "    type=AssetTypes.URI_FILE, ##URI_FILE/URI_FOLDER/MLTABLE\n",
        "    description=\"Diabetes Sample Dataset\",\n",
        "    name=\"diabetes-dataset-uri-file\",\n",
        "    #version='1'\n",
        ")\n",
        "datastore_data_uri_path = \"azureml://datastores/blob_example/paths/diabetes-data/diabetes.csv\"\n",
        "# https://amlwalktstorage1190e2c28.blob.core.windows.net/azureml-blobstore-be972235-dac7-456b-bba5-5d39412d89e7/diabetes-data/diabetes.csv\n",
        "# Data Store URI: azureml://subscriptions/b30d9dbd-c0f7-405f-902c-3eabd080eb00/resourcegroups/aml-walkthrough-rg/workspaces/aml-walkthrough-ws/datastores/blob_example/paths/diabetes-data/\n",
        "\n",
        "tabular_data_asset = Data(\n",
        "    path= datastore_data_uri_path,\n",
        "    type=AssetTypes.URI_FILE, ##URI_FILE/URI_FOLDER/MLTABLE\n",
        "    description=\"Diabetes Sample Dataset\",\n",
        "    name=\"diabetes-dataset-uri-file\",\n",
        "   #version='1'\n",
        ")\n",
        "\n",
        "#creates and registers the data asset in the workspace\n",
        "#ml_client.data.create_or_update(file_data_asset)\n",
        "# ml_client.data.create_or_update(tabular_data_asset)\n",
        "\n",
        "\n",
        "diabetes_uri_data = ml_client.data.get(\"diabetes-dataset-uri-file\", version=\"1\")\n",
        "print(diabetes_uri_data.id, diabetes_uri_data.path)"
      ],
      "outputs": [],
      "execution_count": null,
      "metadata": {
        "gather": {
          "logged": 1669177937901
        }
      }
    },
    {
      "cell_type": "markdown",
      "source": [
        "Use the data in an experiment/job"
      ],
      "metadata": {
        "nteract": {
          "transient": {
            "deleting": false
          }
        }
      }
    },
    {
      "cell_type": "code",
      "source": [
        "%pip show pandas"
      ],
      "outputs": [],
      "execution_count": null,
      "metadata": {
        "jupyter": {
          "source_hidden": false,
          "outputs_hidden": false
        },
        "nteract": {
          "transient": {
            "deleting": false
          }
        }
      }
    },
    {
      "cell_type": "code",
      "source": [
        "import pandas as pd\r\n",
        "\r\n",
        "df = pd.read_csv(\"azureml://subscriptions/b30d9dbd-c0f7-405f-902c-3eabd080eb00/resourcegroups/aml-walkthrough-rg/workspaces/aml-walkthrough-ws/datastores/blob_example/paths/diabetes-data/diabetes.csv\")\r\n",
        "df.head()"
      ],
      "outputs": [],
      "execution_count": null,
      "metadata": {
        "jupyter": {
          "source_hidden": false,
          "outputs_hidden": false
        },
        "nteract": {
          "transient": {
            "deleting": false
          }
        },
        "gather": {
          "logged": 1669177365419
        }
      }
    },
    {
      "cell_type": "markdown",
      "source": [
        "# MLTable\n",
        "mltable is a way to abstract the schema definition for tabular data so that it is easier for consumers of the data to materialize the table into a Pandas/Dask/Spark dataframe."
      ],
      "metadata": {}
    },
    {
      "cell_type": "code",
      "source": [
        "#mltable\n",
        "\n",
        "mltable_path = 'azureml://datastores/workspaceblobstore/paths/samples/diabetes_mltable/'\n",
        "#Upload the sample MLTable.yml file and .csv file from 'sample_data' folder in to Blobstore location\n",
        "\n",
        "\n",
        "mltable_asset = Data(\n",
        "    path=mltable_path,\n",
        "    type=AssetTypes.MLTABLE,\n",
        "    description=\"Sklearn, Diabetes Sample Dataset\",\n",
        "    name=\"diabetes-mltable\",\n",
        "    #version='1'\n",
        ")\n",
        "\n",
        "diabetes_mltable = ml_client.data.create_or_update(mltable_asset)\n",
        "\n",
        "print(diabetes_mltable.id, diabetes_mltable.path)"
      ],
      "outputs": [],
      "execution_count": null,
      "metadata": {}
    },
    {
      "cell_type": "code",
      "source": [
        "%pip install mltable"
      ],
      "outputs": [],
      "execution_count": null,
      "metadata": {
        "jupyter": {
          "source_hidden": false,
          "outputs_hidden": false
        },
        "nteract": {
          "transient": {
            "deleting": false
          }
        }
      }
    },
    {
      "cell_type": "code",
      "source": [
        "   # MLTable Examples\r\n",
        "   # load mltable from local folder\r\n",
        "   from mltable import load\r\n",
        "   tbl = load('.\\samples\\mltable_sample')\r\n",
        "\r\n",
        "   # load mltable from azureml datastore uri\r\n",
        "   from mltable import load\r\n",
        "   tbl = load(\r\n",
        "       'azureml://subscriptions/<subscription-id>/\r\n",
        "       resourcegroups/<resourcegroup-name>/workspaces/<workspace-name>/\r\n",
        "       datastores/<datastore-name>/paths/<mltable-path-on-datastore>/')\r\n",
        "\r\n",
        "   # load mltable from azureml data asset uri\r\n",
        "   from mltable import load\r\n",
        "   tbl = load(\r\n",
        "       'azureml://subscriptions/<subscription-id>/\r\n",
        "       resourcegroups/<resourcegroup-name>/providers/Microsoft.MachineLearningServices/\r\n",
        "       workspaces/<workspace-name>/data/<data-asset-name>/versions/<data-asset-version>/')"
      ],
      "outputs": [],
      "execution_count": null,
      "metadata": {
        "jupyter": {
          "source_hidden": false,
          "outputs_hidden": false
        },
        "nteract": {
          "transient": {
            "deleting": false
          }
        }
      }
    },
    {
      "cell_type": "code",
      "source": [
        "#Reading MLTable Data using mltable package \n",
        "# https://learn.microsoft.com/en-us/python/api/mltable/mltable?source=recommendations&view=azure-ml-py\n",
        "\n",
        "from mltable import load\n",
        "\n",
        "tbl = load(\"azureml://subscriptions/b30d9dbd-c0f7-405f-902c-3eabd080eb00/resourcegroups/aml-walkthrough-rg/workspaces/aml-walkthrough-ws/datastores/blob_example/paths/diabetes-data\")\n",
        "df = tbl.to_pandas_dataframe()\n",
        "df.head()"
      ],
      "outputs": [],
      "execution_count": null,
      "metadata": {
        "gather": {
          "logged": 1669178693886
        }
      }
    },
    {
      "cell_type": "markdown",
      "source": [
        "Refer for more on handling data assets here: https://github.com/Azure/azureml-examples/blob/main/sdk/assets/data/data.ipynb"
      ],
      "metadata": {}
    },
    {
      "cell_type": "markdown",
      "source": [
        "### Read an MLTable in a job\r\n",
        "\r\n",
        "#### Create an environment\r\n",
        "\r\n",
        "Firstly, you need to create an environment that contains the mltable Python Library:"
      ],
      "metadata": {
        "nteract": {
          "transient": {
            "deleting": false
          }
        }
      }
    },
    {
      "cell_type": "code",
      "source": [
        "from azure.ai.ml.entities import Environment\r\n",
        "\r\n",
        "env_docker_conda = Environment(\r\n",
        "    image=\"mcr.microsoft.com/azureml/openmpi3.1.2-ubuntu18.04\",\r\n",
        "    conda_file=\"env-mltable.yml\",\r\n",
        "    name=\"mltable\",\r\n",
        "    description=\"Environment created for consuming MLTable.\",\r\n",
        ")\r\n",
        "\r\n",
        "ml_client.environments.create_or_update(env_docker_conda)"
      ],
      "outputs": [],
      "execution_count": null,
      "metadata": {
        "gather": {
          "logged": 1669180287270
        }
      }
    },
    {
      "cell_type": "markdown",
      "source": [
        "Create a job"
      ],
      "metadata": {
        "nteract": {
          "transient": {
            "deleting": false
          }
        }
      }
    },
    {
      "cell_type": "code",
      "source": [
        "from azure.ai.ml import command\r\n",
        "from azure.ai.ml.entities import Data\r\n",
        "from azure.ai.ml import Input\r\n",
        "from azure.ai.ml.constants import AssetTypes\r\n",
        "\r\n",
        "inputs = {\"input_data\": Input(type=AssetTypes.MLTABLE, path=\"./sample_data\")}\r\n",
        "\r\n",
        "job = command(\r\n",
        "    code=\"./src\",  # local path where the code is stored\r\n",
        "    command=\"python read_mltable.py --input_data ${{inputs.input_data}}\",\r\n",
        "    inputs=inputs,\r\n",
        "    environment=env_docker_conda,\r\n",
        "    compute=\"cpu-cluster\",\r\n",
        ")\r\n",
        "\r\n",
        "# submit the command\r\n",
        "returned_job = ml_client.jobs.create_or_update(job)\r\n",
        "# get a URL for the status of the job\r\n",
        "returned_job.services[\"Studio\"].endpoint"
      ],
      "outputs": [],
      "execution_count": null,
      "metadata": {
        "jupyter": {
          "source_hidden": false,
          "outputs_hidden": false
        },
        "nteract": {
          "transient": {
            "deleting": false
          }
        },
        "gather": {
          "logged": 1669180407408
        }
      }
    },
    {
      "cell_type": "code",
      "source": [],
      "outputs": [],
      "execution_count": null,
      "metadata": {
        "jupyter": {
          "source_hidden": false,
          "outputs_hidden": false
        },
        "nteract": {
          "transient": {
            "deleting": false
          }
        }
      }
    }
  ],
  "metadata": {
    "interpreter": {
      "hash": "6d65a8c07f5b6469e0fc613f182488c0dccce05038bbda39e5ac9075c0454d11"
    },
    "kernel_info": {
      "name": "python38-azureml"
    },
    "kernelspec": {
      "name": "python38-azureml",
      "language": "python",
      "display_name": "Python 3.8 - AzureML"
    },
    "language_info": {
      "name": "python",
      "version": "3.8.5",
      "mimetype": "text/x-python",
      "codemirror_mode": {
        "name": "ipython",
        "version": 3
      },
      "pygments_lexer": "ipython3",
      "nbconvert_exporter": "python",
      "file_extension": ".py"
    },
    "nteract": {
      "version": "nteract-front-end@1.0.0"
    },
    "orig_nbformat": 4
  },
  "nbformat": 4,
  "nbformat_minor": 0
}