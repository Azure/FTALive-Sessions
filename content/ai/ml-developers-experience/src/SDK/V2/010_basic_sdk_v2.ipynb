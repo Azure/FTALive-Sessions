{
  "cells": [
    {
      "cell_type": "markdown",
      "source": [
        "# Basic AzureML SDK V2\r\n",
        "Azure Machine Learning provides multiple ways to work ML Model life cycle. In this article, you'll learn how to work with Azure Machine Learning several resources and assets. These resources and assets are needed to run any job (i.e. train your Model). We will be using the following method to work with the resoures and assets:\r\n",
        "\r\n",
        " - Python SDK v2 for Azure Machine Learning.\r\n"
      ],
      "metadata": {}
    },
    {
      "cell_type": "markdown",
      "source": [
        "## Create Workspace\r\n",
        "The workspace is the top-level resource for Azure Machine Learning, providing a centralized place to work with all the artifacts you create when you use Azure Machine Learning. The workspace keeps a history of all jobs, including logs, metrics, output, and a snapshot of your scripts. The workspace stores references to resources like datastores and compute. It also holds all assets like models, environments, components and data asset.\r\n"
      ],
      "metadata": {
        "nteract": {
          "transient": {
            "deleting": false
          }
        }
      }
    },
    {
      "cell_type": "markdown",
      "source": [
        "This [Jupyter notebook](https://learn.microsoft.com/en-us/azure/machine-learning/concept-azure-machine-learning-v2?tabs=sdk) shows more ways to create an Azure ML workspace using SDK v2."
      ],
      "metadata": {
        "nteract": {
          "transient": {
            "deleting": false
          }
        }
      }
    },
    {
      "cell_type": "markdown",
      "source": [
        "### Use MLClient\r\n",
        "To create the workspace, you first need to create MLClient object. We use the [default azure authentication](https://docs.microsoft.com/en-us/python/api/azure-identity/azure.identity.defaultazurecredential?view=azure-python), our subscription id and the resource group to create the MLCLient object"
      ],
      "metadata": {
        "nteract": {
          "transient": {
            "deleting": false
          }
        }
      }
    },
    {
      "cell_type": "code",
      "source": [
        "# Enter details of your subscription\r\n",
        "subscription_id = \"*********\"\r\n",
        "resource_group = \"*******\"\r\n",
        "\r\n",
        "# get a handle to the subscription\r\n",
        "\r\n",
        "from azure.ai.ml import MLClient\r\n",
        "from azure.identity import DefaultAzureCredential\r\n",
        "\r\n",
        "ml_client = MLClient(DefaultAzureCredential(), subscription_id, resource_group)"
      ],
      "outputs": [],
      "execution_count": 5,
      "metadata": {
        "jupyter": {
          "source_hidden": false,
          "outputs_hidden": false
        },
        "nteract": {
          "transient": {
            "deleting": false
          }
        },
        "gather": {
          "logged": 1669166459484
        }
      }
    },
    {
      "cell_type": "code",
      "source": [
        "from azure.ai.ml.entities import Workspace\r\n",
        "ws_basic = Workspace(\r\n",
        "    name=\"******\",\r\n",
        "    location=\"Westus2\", # Azure region (location) of workspace\r\n",
        "    display_name=\"Meer Alam workspace-example\",\r\n",
        "    description=\"This example shows how to create a basic workspace\"\r\n",
        ")\r\n",
        "ml_client.workspaces.begin_create(ws_basic) # use MLClient to connect to the subscription and resource group and create workspace"
      ],
      "outputs": [
        {
          "output_type": "stream",
          "name": "stderr",
          "text": "Readonly attribute principal_id will be ignored in class <class 'azure.ai.ml._restclient.v2022_05_01.models._models_py3.ManagedServiceIdentity'>\nReadonly attribute tenant_id will be ignored in class <class 'azure.ai.ml._restclient.v2022_05_01.models._models_py3.ManagedServiceIdentity'>\n"
        },
        {
          "output_type": "execute_result",
          "execution_count": 6,
          "data": {
            "text/plain": "Workspace({'discovery_url': 'https://westus2.api.azureml.ms/discovery', 'mlflow_tracking_uri': 'azureml://westus2.api.azureml.ms/mlflow/v1.0/subscriptions/b30d9dbd-c0f7-405f-902c-3eabd080eb00/resourceGroups/aml-walkthrough-rg/providers/Microsoft.MachineLearningServices/workspaces/aml-walkthrough-ws', 'name': 'aml-walkthrough-ws', 'description': 'This example shows how to create a basic workspace', 'tags': {}, 'properties': {}, 'id': '/subscriptions/b30d9dbd-c0f7-405f-902c-3eabd080eb00/resourceGroups/aml-walkthrough-rg/providers/Microsoft.MachineLearningServices/workspaces/aml-walkthrough-ws', 'Resource__source_path': None, 'base_path': '/mnt/batch/tasks/shared/LS_root/mounts/clusters/aimlv2/code/Users/meeral/fta-azure-machine-learning/ml-developers-experience/src/SDK/V2', 'creation_context': None, 'serialize': <msrest.serialization.Serializer object at 0x7f8ebb4276d0>, 'display_name': 'Meer Alam workspace-example', 'location': 'westus2', 'resource_group': 'aml-walkthrough-rg', 'hbi_workspace': False, 'storage_account': '/subscriptions/b30d9dbd-c0f7-405f-902c-3eabd080eb00/resourceGroups/aml-walkthrough-rg/providers/microsoft.storage/storageAccounts/amlwalktstorage1190e2c28', 'container_registry': '/subscriptions/b30d9dbd-c0f7-405f-902c-3eabd080eb00/resourceGroups/aml-walkthrough-rg/providers/Microsoft.ContainerRegistry/registries/be972235dac7456bbba55d39412d89e7', 'key_vault': '/subscriptions/b30d9dbd-c0f7-405f-902c-3eabd080eb00/resourceGroups/aml-walkthrough-rg/providers/Microsoft.Keyvault/vaults/amlwalktkeyvaultaa5cd28f', 'application_insights': '/subscriptions/b30d9dbd-c0f7-405f-902c-3eabd080eb00/resourceGroups/aml-walkthrough-rg/providers/Microsoft.insights/components/amlwalktinsightsab783b98', 'customer_managed_key': None, 'image_build_compute': None, 'public_network_access': 'Enabled', 'identity': <azure.ai.ml.entities._workspace.identity.ManagedServiceIdentity object at 0x7f8ebb3eb700>, 'primary_user_assigned_identity': None})"
          },
          "metadata": {}
        }
      ],
      "execution_count": 6,
      "metadata": {
        "jupyter": {
          "source_hidden": false,
          "outputs_hidden": false
        },
        "nteract": {
          "transient": {
            "deleting": false
          }
        },
        "gather": {
          "logged": 1669166588470
        }
      }
    },
    {
      "cell_type": "code",
      "source": [
        "from azure.identity import DefaultAzureCredential\n",
        "from azure.ai.ml import MLClient\n",
        "\n",
        "\n",
        "credential = DefaultAzureCredential()\n",
        "ml_client = None\n",
        "try:\n",
        "    ml_client = MLClient.from_config(credential)\n",
        "except Exception as ex:\n",
        "    print(ex)\n",
        "    # Enter details of your AML workspace\n",
        "    subscription_id = \"<Subscription ID>\"\n",
        "    resource_group = \"<ResourceGroup Name>\"\n",
        "    workspace = \"<<WorkspaceName>\"\n",
        "    ml_client = MLClient(credential, subscription_id, resource_group, workspace)\n",
        "print(ml_client)\n",
        "\n",
        "##Save the Workspace Config ??? Documentation points to Workspace.write_config but could not find any definition for the same"
      ],
      "outputs": [
        {
          "output_type": "stream",
          "name": "stdout",
          "text": "We could not find config.json in: . or in its parent directories. \nMLClient(credential=<azure.identity._credentials.default.DefaultAzureCredential object at 0x7f966bf2bfd0>,\n         subscription_id=25758354-2fe7-426a-be0e-1ad20058340d,\n         resource_group_name=azureml-live,\n         workspace_name=ftaliveazureml)\n"
        }
      ],
      "execution_count": 1,
      "metadata": {}
    },
    {
      "cell_type": "markdown",
      "source": [
        "If workspace already exists, we can directly connect (get a handle) to the workspace"
      ],
      "metadata": {
        "nteract": {
          "transient": {
            "deleting": false
          }
        }
      }
    },
    {
      "cell_type": "code",
      "source": [
        "from azure.ai.ml import MLClient\r\n",
        "from azure.identity import DefaultAzureCredential\r\n",
        "credential = DefaultAzureCredential()\r\n",
        "ml_client = None\r\n",
        "\r\n",
        "# authentication package\r\n",
        "from azure.identity import DefaultAzureCredential\r\n",
        "try:\r\n",
        "    ml_client = MLClient.from_config(credential)\r\n",
        "except Exception as ex:\r\n",
        "    print(ex)\r\n",
        "    # Enter details of your AML workspace\r\n",
        "    subscription_id=\"*********\"\r\n",
        "    resource_group_name=\"******\"\r\n",
        "    workspace_name=\"******\"\r\n",
        "   # ml_client = MLClient(credential, subscription_id, resource_group, workspace)\r\n",
        "\r\n",
        "    # get a handle to the workspace\r\n",
        "    ml_client = MLClient(\r\n",
        "        #InteractiveBrowserCredential(),\r\n",
        "        credential,\r\n",
        "        subscription_id,\r\n",
        "        resource_group_name,\r\n",
        "        workspace_name\r\n",
        "    )"
      ],
      "outputs": [
        {
          "output_type": "stream",
          "name": "stderr",
          "text": "Found the config file in: ./config.json\n"
        }
      ],
      "execution_count": 7,
      "metadata": {
        "jupyter": {
          "source_hidden": false,
          "outputs_hidden": false
        },
        "nteract": {
          "transient": {
            "deleting": false
          }
        },
        "gather": {
          "logged": 1669167084755
        }
      }
    },
    {
      "cell_type": "markdown",
      "source": [
        "# Computes\r\n",
        "We can review the compute instances we have. We can create one, as needed, if do not have one"
      ],
      "metadata": {}
    },
    {
      "cell_type": "code",
      "source": [
        "#List Compute targets in the Workspace\n",
        "for compute in ml_client.compute.list():\n",
        "    print(f\"Compute {compute.name} is a {compute.type}\")"
      ],
      "outputs": [
        {
          "output_type": "stream",
          "name": "stdout",
          "text": "Compute amlkube is a *** unsupported compute type ***\nCompute walkthroughvm is a computeinstance\nCompute mlwalkthroughvm is a computeinstance\nCompute mlopshack is a computeinstance\nCompute aimlv2 is a computeinstance\nCompute amlsdkcliv2 is a computeinstance\nCompute cpu-cluster is a amlcompute\n"
        }
      ],
      "execution_count": 2,
      "metadata": {
        "gather": {
          "logged": 1669164781280
        }
      }
    },
    {
      "cell_type": "markdown",
      "source": [
        "Let us create a compute cluster, where we can submit a job"
      ],
      "metadata": {
        "nteract": {
          "transient": {
            "deleting": false
          }
        }
      }
    },
    {
      "cell_type": "code",
      "source": [
        "cpu_compute_target = AmlCompute(\r\n",
        "    name=\"cpu-cluster\",\r\n",
        "    type=\"amlcompute\",\r\n",
        "    size=\"STANDARD_DS3_v2\",\r\n",
        "    location=\"westus2\",\r\n",
        "    min_instances=0,\r\n",
        "    max_instances=2,\r\n",
        "    idle_time_before_scale_down=120,\r\n",
        ")\r\n",
        "ml_client.begin_create_or_update(cpu_compute_target)"
      ],
      "outputs": [],
      "execution_count": null,
      "metadata": {
        "jupyter": {
          "source_hidden": false,
          "outputs_hidden": false
        },
        "nteract": {
          "transient": {
            "deleting": false
          }
        }
      }
    },
    {
      "cell_type": "markdown",
      "source": [
        "Alternatively we can use the following technique to create our compute cluster"
      ],
      "metadata": {
        "nteract": {
          "transient": {
            "deleting": false
          }
        }
      }
    },
    {
      "cell_type": "code",
      "source": [
        "from azure.ai.ml.entities import AmlCompute\n",
        "\n",
        "# provision a small compute cluster\n",
        "cpu_compute_target = \"cpu-cluster\"\n",
        "\n",
        "try:\n",
        "    cluster = ml_client.compute.get(cpu_compute_target)\n",
        "except Exception:\n",
        "    print(\"Creating a new cpu compute target...\")\n",
        "    compute = AmlCompute(\n",
        "        name=cpu_compute_target, size=\"STANDARD_D2_V2\", min_instances=0, max_instances=4\n",
        "    )\n",
        "    cluster = ml_client.compute.begin_create_or_update(compute)\n",
        "\n",
        "print(f\"Got reference to cluster: {cluster.name}, Type: {cluster.type}\")"
      ],
      "outputs": [
        {
          "output_type": "stream",
          "name": "stdout",
          "text": "Got reference to cluster: cpu-cluster, Type: amlcompute\n"
        }
      ],
      "execution_count": 8,
      "metadata": {
        "gather": {
          "logged": 1669171774166
        }
      }
    },
    {
      "cell_type": "markdown",
      "source": [
        "Refer for more examples on Compute: https://github.com/Azure/azureml-examples/blob/main/sdk/resources/compute/compute.ipynb"
      ],
      "metadata": {}
    },
    {
      "cell_type": "markdown",
      "source": [
        "# Datastores"
      ],
      "metadata": {}
    },
    {
      "cell_type": "code",
      "source": [
        "#List existing Datastorses in the Workspace and select the default store\n",
        "\n",
        "print([dstore.name for dstore in ml_client.datastores.list()])\n",
        "\n",
        "dstore_name = \"workspaceblobstore\"\n",
        "\n",
        "dstore = ml_client.datastores.get(dstore_name)\n",
        "# OR \n",
        "dstore = ml_client.datastores.get_default()\n",
        "\n",
        "print(f\"Default Datastore name: {dstore.name}, Type: {dstore.type}\")"
      ],
      "outputs": [
        {
          "output_type": "stream",
          "name": "stdout",
          "text": "['azureml', 'labeling_tutorial', 'adls2store', 'gen2adlstore', 'workspaceartifactstore', 'azureml_globaldatasets', 'workspaceblobstore', 'workspacefilestore']\nDefault Datastore name: workspaceblobstore, Type: AzureBlob\n"
        }
      ],
      "execution_count": 4,
      "metadata": {
        "gather": {
          "logged": 1669164821842
        }
      }
    },
    {
      "cell_type": "markdown",
      "source": [
        "This [Jupyter notebook](https://github.com/Azure/azureml-examples/blob/main/sdk/python/resources/datastores/datastore.ipynb) shows more ways to create datastores using SDK v2."
      ],
      "metadata": {
        "nteract": {
          "transient": {
            "deleting": false
          }
        }
      }
    },
    {
      "cell_type": "code",
      "source": [
        "#Create a Datastore\n",
        "'''\n",
        "blob_datastore1 = AzureBlobDatastore(\n",
        "    name=\"blob-example\",\n",
        "    description=\"Datastore pointing to a blob container.\",\n",
        "    account_name=\"mytestblobstore\",\n",
        "    container_name=\"data-container\",\n",
        "    credentials={\n",
        "        \"account_key\": \"XXXxxxXXXxXXXXxxXXXXXxXXXXXxXxxXxXXXxXXXxXXxxxXXxxXXXxXxXXXxxXxxXXXXxxxxxXXxxxxxxXXXxXXX\"\n",
        "    },\n",
        ")\n",
        "ml_client.create_or_update(blob_datastore1)'''"
      ],
      "outputs": [],
      "execution_count": null,
      "metadata": {}
    },
    {
      "cell_type": "markdown",
      "source": [
        "Refer for more examples on Datastores: https://github.com/Azure/azureml-examples/blob/main/sdk/resources/datastores/datastore.ipynb"
      ],
      "metadata": {}
    },
    {
      "cell_type": "markdown",
      "source": [
        "# Data Assets"
      ],
      "metadata": {}
    },
    {
      "cell_type": "code",
      "source": [
        "#Data Assets\n",
        "from azure.ai.ml.entities import Data\n",
        "from azure.ai.ml.constants import AssetTypes\n",
        "\n",
        "# Supported paths include:\n",
        "# local: './<path>'\n",
        "# blob:  'https://<account_name>.blob.core.windows.net/<container_name>/<path>'\n",
        "# ADLS gen2: 'abfss://<file_system>@<account_name>.dfs.core.windows.net/<path>/'\n",
        "# Datastore: 'azureml://datastores/<data_store_name>/paths/<path>'\n",
        "\n",
        "#E.g Datastore example \n",
        "# data_uri_path = 'azureml://datastores/workspaceblobstore/paths/samples/diabetes/v1/diabetes_raw_data.csv' (file needs to exist in the location)\n",
        "\n",
        "#Blob/http location \n",
        "data_uri_path = 'https://azuremlexamples.blob.core.windows.net/datasets/diabetes.csv'\n",
        "\n",
        "file_data_asset = Data(\n",
        "    path= data_uri_path,\n",
        "    type=AssetTypes.URI_FILE, ##URI_FILE/URI_FOLDER/MLTABLE\n",
        "    description=\"Diabetes Sample Dataset\",\n",
        "    name=\"diabetes-dataset-uri-file\",\n",
        "    #version='1'\n",
        ")\n",
        "\n",
        "#creates and registers the data asset in the workspace\n",
        "ml_client.data.create_or_update(file_data_asset)\n",
        "\n",
        "diabetes_uri_data = ml_client.data.get('diabetes-dataset-uri-file', version=\"3\")\n",
        "print(diabetes_uri_data.id, diabetes_uri_data.path)"
      ],
      "outputs": [
        {
          "output_type": "stream",
          "name": "stdout",
          "text": "/subscriptions/25758354-2fe7-426a-be0e-1ad20058340d/resourceGroups/azureml-live/providers/Microsoft.MachineLearningServices/workspaces/ftaliveazureml/data/diabetes-dataset-uri-file/versions/3 https://azuremlexamples.blob.core.windows.net/datasets/diabetes.csv\n"
        }
      ],
      "execution_count": 20,
      "metadata": {}
    },
    {
      "cell_type": "markdown",
      "source": [
        "# MLTable\n",
        "mltable is a way to abstract the schema definition for tabular data so that it is easier for consumers of the data to materialize the table into a Pandas/Dask/Spark dataframe."
      ],
      "metadata": {}
    },
    {
      "cell_type": "code",
      "source": [
        "#mltable\n",
        "\n",
        "mltable_path = 'azureml://datastores/workspaceblobstore/paths/samples/diabetes_mltable/'\n",
        "#Upload the sample MLTable.yml file and .csv file from 'sample_data' folder in to Blobstore location\n",
        "\n",
        "\n",
        "mltable_asset = Data(\n",
        "    path=mltable_path,\n",
        "    type=AssetTypes.MLTABLE,\n",
        "    description=\"Sklearn, Diabetes Sample Dataset\",\n",
        "    name=\"diabetes-mltable\",\n",
        "    #version='1'\n",
        ")\n",
        "\n",
        "diabetes_mltable = ml_client.data.create_or_update(mltable_asset)\n",
        "\n",
        "print(diabetes_mltable.id, diabetes_mltable.path)"
      ],
      "outputs": [
        {
          "output_type": "stream",
          "name": "stdout",
          "text": "/subscriptions/25758354-2fe7-426a-be0e-1ad20058340d/resourceGroups/azureml-live/providers/Microsoft.MachineLearningServices/workspaces/ftaliveazureml/data/diabetes-mltable/versions/1 azureml://subscriptions/25758354-2fe7-426a-be0e-1ad20058340d/resourcegroups/azureml-live/workspaces/ftaliveazureml/datastores/workspaceblobstore/paths/samples/diabetes_mltable/\n"
        }
      ],
      "execution_count": 22,
      "metadata": {}
    },
    {
      "cell_type": "code",
      "source": [
        "#Reading MLTable Data using mltable package \n",
        "#!pip install mltable\n",
        "\n",
        "from mltable import load\n",
        "\n",
        "tbl = load(uri= \"./sample_data\")\n",
        "df = tbl.to_pandas_dataframe()\n",
        "df.head()"
      ],
      "outputs": [
        {
          "output_type": "execute_result",
          "execution_count": 25,
          "data": {
            "text/html": "<div>\n<style scoped>\n    .dataframe tbody tr th:only-of-type {\n        vertical-align: middle;\n    }\n\n    .dataframe tbody tr th {\n        vertical-align: top;\n    }\n\n    .dataframe thead th {\n        text-align: right;\n    }\n</style>\n<table border=\"1\" class=\"dataframe\">\n  <thead>\n    <tr style=\"text-align: right;\">\n      <th></th>\n      <th>0</th>\n      <th>1</th>\n      <th>2</th>\n      <th>3</th>\n      <th>4</th>\n      <th>5</th>\n      <th>6</th>\n      <th>7</th>\n      <th>8</th>\n      <th>9</th>\n      <th>target</th>\n    </tr>\n  </thead>\n  <tbody>\n    <tr>\n      <th>0</th>\n      <td>0.0380759064334241</td>\n      <td>0.0506801187398187</td>\n      <td>0.0616962065186885</td>\n      <td>0.0218723549949558</td>\n      <td>-0.0442234984244464</td>\n      <td>-0.0348207628376986</td>\n      <td>-0.0434008456520269</td>\n      <td>-0.00259226199818282</td>\n      <td>0.0199084208763183</td>\n      <td>-0.0176461251598052</td>\n      <td>151.0</td>\n    </tr>\n    <tr>\n      <th>1</th>\n      <td>-0.00188201652779104</td>\n      <td>-0.044641636506989</td>\n      <td>-0.0514740612388061</td>\n      <td>-0.0263278347173518</td>\n      <td>-0.00844872411121698</td>\n      <td>-0.019163339748222</td>\n      <td>0.0744115640787594</td>\n      <td>-0.0394933828740919</td>\n      <td>-0.0683297436244215</td>\n      <td>-0.09220404962683</td>\n      <td>75.0</td>\n    </tr>\n    <tr>\n      <th>2</th>\n      <td>0.0852989062966783</td>\n      <td>0.0506801187398187</td>\n      <td>0.0444512133365941</td>\n      <td>-0.00567061055493425</td>\n      <td>-0.0455994512826475</td>\n      <td>-0.0341944659141195</td>\n      <td>-0.0323559322397657</td>\n      <td>-0.00259226199818282</td>\n      <td>0.00286377051894013</td>\n      <td>-0.0259303389894746</td>\n      <td>141.0</td>\n    </tr>\n    <tr>\n      <th>3</th>\n      <td>-0.0890629393522603</td>\n      <td>-0.044641636506989</td>\n      <td>-0.0115950145052127</td>\n      <td>-0.0366564467985606</td>\n      <td>0.0121905687618</td>\n      <td>0.0249905933641021</td>\n      <td>-0.0360375700438527</td>\n      <td>0.0343088588777263</td>\n      <td>0.0226920225667445</td>\n      <td>-0.0093619113301358</td>\n      <td>206.0</td>\n    </tr>\n    <tr>\n      <th>4</th>\n      <td>0.00538306037424807</td>\n      <td>-0.044641636506989</td>\n      <td>-0.0363846922044735</td>\n      <td>0.0218723549949558</td>\n      <td>0.00393485161259318</td>\n      <td>0.0155961395104161</td>\n      <td>0.0081420836051921</td>\n      <td>-0.00259226199818282</td>\n      <td>-0.0319914449413559</td>\n      <td>-0.0466408735636482</td>\n      <td>135.0</td>\n    </tr>\n  </tbody>\n</table>\n</div>",
            "text/plain": "                      0                   1                    2  \\\n0    0.0380759064334241  0.0506801187398187   0.0616962065186885   \n1  -0.00188201652779104  -0.044641636506989  -0.0514740612388061   \n2    0.0852989062966783  0.0506801187398187   0.0444512133365941   \n3   -0.0890629393522603  -0.044641636506989  -0.0115950145052127   \n4   0.00538306037424807  -0.044641636506989  -0.0363846922044735   \n\n                      3                     4                    5  \\\n0    0.0218723549949558   -0.0442234984244464  -0.0348207628376986   \n1   -0.0263278347173518  -0.00844872411121698   -0.019163339748222   \n2  -0.00567061055493425   -0.0455994512826475  -0.0341944659141195   \n3   -0.0366564467985606       0.0121905687618   0.0249905933641021   \n4    0.0218723549949558   0.00393485161259318   0.0155961395104161   \n\n                     6                     7                    8  \\\n0  -0.0434008456520269  -0.00259226199818282   0.0199084208763183   \n1   0.0744115640787594   -0.0394933828740919  -0.0683297436244215   \n2  -0.0323559322397657  -0.00259226199818282  0.00286377051894013   \n3  -0.0360375700438527    0.0343088588777263   0.0226920225667445   \n4   0.0081420836051921  -0.00259226199818282  -0.0319914449413559   \n\n                     9 target  \n0  -0.0176461251598052  151.0  \n1    -0.09220404962683   75.0  \n2  -0.0259303389894746  141.0  \n3  -0.0093619113301358  206.0  \n4  -0.0466408735636482  135.0  "
          },
          "metadata": {}
        }
      ],
      "execution_count": 25,
      "metadata": {}
    },
    {
      "cell_type": "markdown",
      "source": [
        "Refer for more on handling data assets here: https://github.com/Azure/azureml-examples/blob/main/sdk/assets/data/data.ipynb"
      ],
      "metadata": {}
    },
    {
      "cell_type": "code",
      "source": [],
      "outputs": [],
      "execution_count": null,
      "metadata": {}
    }
  ],
  "metadata": {
    "interpreter": {
      "hash": "6d65a8c07f5b6469e0fc613f182488c0dccce05038bbda39e5ac9075c0454d11"
    },
    "kernel_info": {
      "name": "python3"
    },
    "kernelspec": {
      "name": "python3",
      "language": "python",
      "display_name": "Python 3 (ipykernel)"
    },
    "language_info": {
      "name": "python",
      "version": "3.8.5",
      "mimetype": "text/x-python",
      "codemirror_mode": {
        "name": "ipython",
        "version": 3
      },
      "pygments_lexer": "ipython3",
      "nbconvert_exporter": "python",
      "file_extension": ".py"
    },
    "nteract": {
      "version": "nteract-front-end@1.0.0"
    },
    "orig_nbformat": 4
  },
  "nbformat": 4,
  "nbformat_minor": 0
}
