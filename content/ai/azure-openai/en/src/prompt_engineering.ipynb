{
 "cells": [
  {
   "attachments": {},
   "cell_type": "markdown",
   "metadata": {},
   "source": [
    "# Best Practices for Prompt Engineering\n",
    "\n",
    "source: https://help.openai.com/en/articles/6654000-best-practices-for-prompt-engineering-with-openai-api\n"
   ]
  },
  {
   "cell_type": "code",
   "execution_count": 1,
   "metadata": {},
   "outputs": [
    {
     "data": {
      "text/plain": [
       "True"
      ]
     },
     "execution_count": 1,
     "metadata": {},
     "output_type": "execute_result"
    }
   ],
   "source": [
    "\n",
    "from dotenv import load_dotenv\n",
    "load_dotenv() # load environment variables from .env file"
   ]
  },
  {
   "cell_type": "code",
   "execution_count": 3,
   "metadata": {},
   "outputs": [],
   "source": [
    "import os\n",
    "import openai\n",
    "\n",
    "openai.api_type = \"azure\"\n",
    "openai.api_version = \"2022-12-01\"\n",
    "\n",
    "API_KEY = os.getenv(\"AZURE_OPENAI_KEY\",\"\").strip()\n",
    "assert API_KEY, \"ERROR: Azure OpenAI Key is missing\"\n",
    "openai.api_key = API_KEY\n",
    "\n",
    "RESOURCE_ENDPOINT = os.getenv(\"AZURE_OPENAI_ENDPOINT\",\"\").strip()\n",
    "assert RESOURCE_ENDPOINT, \"ERROR: Azure OpenAI Endpoint is missing\"\n",
    "assert \"openai.azure.com\" in RESOURCE_ENDPOINT.lower(), \"ERROR: Azure OpenAI Endpoint should be in the form: \\n\\n\\t<your unique endpoint identifier>.openai.azure.com\"\n",
    "openai.api_base = RESOURCE_ENDPOINT"
   ]
  },
  {
   "attachments": {},
   "cell_type": "markdown",
   "metadata": {},
   "source": [
    "# 1. Use the latest model\n",
    "\n",
    "Use the latest model for best results."
   ]
  },
  {
   "attachments": {},
   "cell_type": "markdown",
   "metadata": {},
   "source": [
    "# 2. Put instructions at the begining of the prompt and use ### or \"\"\" to separate the instruction and context"
   ]
  },
  {
   "cell_type": "code",
   "execution_count": 4,
   "metadata": {},
   "outputs": [
    {
     "name": "stdout",
     "output_type": "stream",
     "text": [
      "\n",
      "\n",
      "- OpenAI and Microsoft have extended their partnership in a multi-year, multi-billion dollar investment\n",
      "- OpenAI remains a capped-profit company and is governed by the non-profit OpenAI\n",
      "- Partnership allows OpenAI to raise capital while maintaining their core beliefs about sharing benefits and prioritizing safety\n",
      "- Microsoft shares OpenAi's vision and values and is instrumental to their progress\n"
     ]
    }
   ],
   "source": [
    "response = openai.Completion.create(\n",
    "            engine=\"text-davinci-003\",\n",
    "            prompt='Summarize the text below as a bullet point list of the most important points. \\n\\n \\\n",
    "                We’re happy to announce that OpenAI and Microsoft are extending our partnership.\\\n",
    "                This multi-year, multi-billion dollar investment from Microsoft follows their previous investments \\\n",
    "                in 2019 and 2021, and will allow us to continue our independent research and develop AI that is \\\n",
    "                increasingly safe, useful, and powerful. \\n\\n \\\n",
    "                In pursuit of our mission to ensure advanced AI benefits all of humanity, OpenAI remains a \\\n",
    "                capped-profit company and is governed by the OpenAI non-profit. This structure allows us to \\\n",
    "                raise the capital we need to fulfill our mission without sacrificing our core beliefs about \\\n",
    "                broadly sharing benefits and the need to prioritize safety. \\\n",
    "                Microsoft shares this vision and our values, and our partnership is instrumental to our progress. ',\n",
    "            max_tokens=400,\n",
    "        )\n",
    "\n",
    "print(response['choices'][0]['text'])"
   ]
  },
  {
   "cell_type": "code",
   "execution_count": 5,
   "metadata": {},
   "outputs": [
    {
     "name": "stdout",
     "output_type": "stream",
     "text": [
      "\n",
      "\n",
      "- OpenAI and Microsoft are extending their partnership \n",
      "- Multi-year, multi-billion dollar investment from Microsoft\n",
      "- OpenAI remains a capped-profit company and is governed by a non-profit\n",
      "- Partnership is instrumental to progress in terms of safety, power and usefulness of AI\n",
      "- OpenAI and Microsoft share both the same vision and values\n"
     ]
    }
   ],
   "source": [
    "response = openai.Completion.create(\n",
    "            engine=\"text-davinci-003\",\n",
    "            prompt='Summarize the text below as a bullet point list of the most important points. \\n\\n \\\n",
    "                \"\"\"\\\n",
    "                We’re happy to announce that OpenAI and Microsoft are extending our partnership.\\\n",
    "                This multi-year, multi-billion dollar investment from Microsoft follows their previous investments \\\n",
    "                in 2019 and 2021, and will allow us to continue our independent research and develop AI that is \\\n",
    "                increasingly safe, useful, and powerful. \\n\\n \\\n",
    "                In pursuit of our mission to ensure advanced AI benefits all of humanity, OpenAI remains a \\\n",
    "                capped-profit company and is governed by the OpenAI non-profit. This structure allows us to \\\n",
    "                raise the capital we need to fulfill our mission without sacrificing our core beliefs about \\\n",
    "                broadly sharing benefits and the need to prioritize safety. \\\n",
    "                Microsoft shares this vision and our values, and our partnership is instrumental to our progress. \\\n",
    "                \"\"\"\\\n",
    "                ',\n",
    "            max_tokens=400,\n",
    "        )\n",
    "\n",
    "print(response['choices'][0]['text'])"
   ]
  },
  {
   "cell_type": "markdown",
   "metadata": {},
   "source": [
    "# 3. Be specific, descriptive and as detailed as possible about the desired context, outcome, length, format, style, etc"
   ]
  },
  {
   "cell_type": "code",
   "execution_count": 6,
   "metadata": {},
   "outputs": [
    {
     "name": "stdout",
     "output_type": "stream",
     "text": [
      "\n",
      "\n",
      "An AI so powerful and wise,\n",
      "A breakthrough made by OpenAI.\n",
      "Its goal is to serve humanity,\n",
      "And spread intelligence in her way.\n",
      "\n",
      "This noble company out of San Francisco,\n",
      "Is bringing about such a revolution.\n",
      "Through Speech, Text and GPT-3,\n",
      "They must be admired and commended.\n",
      "\n",
      "Its given scientists more insight,\n",
      "Into conversations and language's night.\n",
      "Analyzing structure and context too,\n",
      "Helps to anticipate what people do.\n",
      "\n",
      "The results are so remarkable,\n",
      "Now we can all experience a magical.\n",
      "For OpenAI has given us a new,\n",
      "Future of advanced artificial life too.\n"
     ]
    }
   ],
   "source": [
    "response = openai.Completion.create(\n",
    "            engine=\"text-davinci-003\",\n",
    "            prompt='Write a poem about OpenAI.',\n",
    "            max_tokens=400,\n",
    "            n=1\n",
    "        )\n",
    "\n",
    "print(response['choices'][0]['text'])"
   ]
  },
  {
   "cell_type": "code",
   "execution_count": 7,
   "metadata": {},
   "outputs": [
    {
     "name": "stdout",
     "output_type": "stream",
     "text": [
      "\n",
      "\n",
      "We strive for knowledge, \n",
      "To open what's been hidden \n",
      "DALL-E has shown its face,\n",
      "Now Artificial Intelligence forbidden. \n",
      "\n",
      "OpenAI leads the way \n",
      "In discovering what's new \n",
      "Unlock our potential, \n",
      "And the power to pursue.\n"
     ]
    }
   ],
   "source": [
    "response = openai.Completion.create(\n",
    "            engine=\"text-davinci-003\",\n",
    "            prompt='Write a short inspiring poem about OpenAI, \\\n",
    "                focusing on the recent DALL-E product launch in the style of Ernest Hemingway',\n",
    "            max_tokens=400,\n",
    "        )\n",
    "\n",
    "print(response['choices'][0]['text'])"
   ]
  },
  {
   "attachments": {},
   "cell_type": "markdown",
   "metadata": {},
   "source": [
    "# 4. Articulate the desired output format through examples (example 1, example 2). "
   ]
  },
  {
   "cell_type": "code",
   "execution_count": 8,
   "metadata": {},
   "outputs": [
    {
     "name": "stdout",
     "output_type": "stream",
     "text": [
      "\n",
      "\n",
      "{\"text\": \"OpenAI\", \"start\": 28, \"end\": 34}, \n",
      "{\"text\": \"Microsoft\", \"start\": 49, \"end\": 57},\n",
      "{\"text\": \"2019\", \"start\": 88, \"end\": 92},\n",
      "{\"text\": \"2021\", \"start\": 96, \"end\": 101}\n"
     ]
    }
   ],
   "source": [
    "response = openai.Completion.create(\n",
    "            engine=\"text-davinci-003\",\n",
    "            prompt='Extract the companny names then years in the following text below and output start index and end index of each entity.\\\n",
    "                Generate output as {\"text\": \"OpenAI\", \"start\": 28, \"end\": 34} \\\n",
    "                ###\\\n",
    "                We’re happy to announce that OpenAI and Microsoft are extending our partnership.\\\n",
    "                This multi-year, multi-billion dollar investment from Microsoft follows their previous investments \\\n",
    "                in 2019 and 2021, and will allow us to continue our independent research and develop AI that is \\\n",
    "                increasingly safe, useful, and powerful. \\n\\n \\\n",
    "                ###\\\n",
    "                ',\n",
    "            max_tokens=400,\n",
    "            n=1\n",
    "        )\n",
    "\n",
    "print(response['choices'][0]['text'])"
   ]
  },
  {
   "cell_type": "code",
   "execution_count": 9,
   "metadata": {},
   "outputs": [
    {
     "name": "stdout",
     "output_type": "stream",
     "text": [
      " Company names: OpenAI, Microsoft                 Years: 2019, 2021                  Specific topics: AI research and development, AI safety, AI utility, AI power                  General themes: Investment, Partnership\n"
     ]
    }
   ],
   "source": [
    "response = openai.Completion.create(\n",
    "            engine=\"text-davinci-003\",\n",
    "            prompt='Extract the entities mentioned in the text below. \\\n",
    "                Extract the important entities mentioned in the text below. \\\n",
    "                First extract all company names, then extract all years, \\\n",
    "                then extract specific topics which fit the content and finally extract general overarching themes\\n\\n \\\n",
    "                Desired format: \\\n",
    "                Company names: <comma_separated_list_of_company_names> \\\n",
    "                Years: -||- \\\n",
    "                Specific topics: -||- \\\n",
    "                General themes: -||- \\\n",
    "                \"\"\"\\\n",
    "                We’re happy to announce that OpenAI and Microsoft are extending our partnership.\\\n",
    "                This multi-year, multi-billion dollar investment from Microsoft follows their previous investments \\\n",
    "                in 2019 and 2021, and will allow us to continue our independent research and develop AI that is \\\n",
    "                increasingly safe, useful, and powerful. \\n\\n \\\n",
    "                \"\"\"\\\n",
    "                ',\n",
    "            max_tokens=400,\n",
    "            n=1\n",
    "        )\n",
    "\n",
    "print(response['choices'][0]['text'])"
   ]
  },
  {
   "attachments": {},
   "cell_type": "markdown",
   "metadata": {},
   "source": [
    "# 5. Start with zero-shot, then few-shot (example), neither of them worked, then fine-tune "
   ]
  },
  {
   "cell_type": "code",
   "execution_count": 10,
   "metadata": {},
   "outputs": [
    {
     "name": "stdout",
     "output_type": "stream",
     "text": [
      " OpenAI, Microsoft, Multi-year, Multi-billion dollar, Investment, Previous, 2019, 2021, Independent research, AI, Safe, Useful, Powerful\n"
     ]
    }
   ],
   "source": [
    "response = openai.Completion.create(\n",
    "            engine=\"text-davinci-003\",\n",
    "            prompt='Extract keywords from the below text. Text: \\n\\\n",
    "            We’re happy to announce that OpenAI and Microsoft are extending our partnership.\\\n",
    "            This multi-year, multi-billion dollar investment from Microsoft follows their previous investments \\\n",
    "            in 2019 and 2021, and will allow us to continue our independent research and develop AI that is \\\n",
    "            increasingly safe, useful, and powerful. \\n\\nKeywords:    ',\n",
    "            max_tokens=400,\n",
    "            n=1\n",
    "        )\n",
    "\n",
    "print(response['choices'][0]['text'])"
   ]
  },
  {
   "cell_type": "code",
   "execution_count": 11,
   "metadata": {},
   "outputs": [
    {
     "name": "stdout",
     "output_type": "stream",
     "text": [
      " OpenAI, Microsoft, multi-year, multi-billion dollar investment, research, AI.\n"
     ]
    }
   ],
   "source": [
    "response = openai.Completion.create(\n",
    "            engine=\"text-davinci-003\",\n",
    "            prompt='Extract keywords from the corresponding texts below.\\n\\n \\\n",
    "                Text 1: Stripe provides APIs that web developers can use to integrate \\\n",
    "                payment processing into their websites and mobile applications. \\\n",
    "                Keywords 1: Stripe, payment processing, APIs, web developers, websites, mobile applications \\\n",
    "                ##\\n\\\n",
    "                Text 2: OpenAI has trained cutting-edge language models that are very good at understanding \\\n",
    "                and generating text. Our API provides access to these models and can be used to solve virtually \\\n",
    "                any task that involves processing language. \\n\\\n",
    "                Keywords 2: OpenAI, language models, text processing, API.\\n\\n\\\n",
    "                ##\\n\\\n",
    "                Text 3: We’re happy to announce that OpenAI and Microsoft are extending our partnership.\\\n",
    "                This multi-year, multi-billion dollar investment from Microsoft follows their previous investments \\\n",
    "                in 2019 and 2021, and will allow us to continue our independent research and develop AI that is \\\n",
    "                increasingly safe, useful, and powerful. \\n\\n\\\n",
    "                Keywords 3:',\n",
    "            max_tokens=400,\n",
    "            n=1\n",
    "        )\n",
    "\n",
    "print(response['choices'][0]['text'])"
   ]
  },
  {
   "attachments": {},
   "cell_type": "markdown",
   "metadata": {},
   "source": [
    "# 6. Reduce “fluffy” and imprecise descriptions"
   ]
  },
  {
   "cell_type": "code",
   "execution_count": 12,
   "metadata": {},
   "outputs": [
    {
     "name": "stdout",
     "output_type": "stream",
     "text": [
      "\n",
      "\n",
      "Introducing the next evolution in car seat technology—the new generation of car seats. Our seats feature superior comfort, superior safety, and superior ease of use, all in one package. Our adjustable design provides the perfect fit for all types of vehicles, while the cushioned material provides superior comfort that lasts. Our advanced safety features ensure your little one is safe and secure at all times. Plus, the modern design adds a touch of style to your vehicle. Experience the next generation of car seats today.\n"
     ]
    }
   ],
   "source": [
    "response = openai.Completion.create(\n",
    "            engine=\"text-davinci-003\",\n",
    "            prompt='Write a description for a new product. This product is a new generation of car seat. \\\n",
    "                The description for this product should be fairly short, a few sentences only, and not too much more.',\n",
    "            max_tokens=400,\n",
    "            n=1\n",
    "        )\n",
    "\n",
    "print(response['choices'][0]['text'])"
   ]
  },
  {
   "cell_type": "code",
   "execution_count": 13,
   "metadata": {},
   "outputs": [
    {
     "name": "stdout",
     "output_type": "stream",
     "text": [
      "\n",
      "\n",
      "The new generation of car seat from XYZ Automotive is the perfect choice for busy parents who need a safe and stylish car seat for their precious little one. This innovative car seat features advanced side impact protection for superior levels of safety, along with an ergonomic design for maximum comfort and convenience. It is easy to install and adjustable to fit the growing needs of any family. Plus, the contoured seat cushion is covered in a luxurious, super soft fabric that won’t irritate sensitive skin. With its stylish look and superior protection and comfort, this car seat has it all.\n"
     ]
    }
   ],
   "source": [
    "response = openai.Completion.create(\n",
    "            engine=\"text-davinci-003\",\n",
    "            prompt='Write a description for a new product. This product is a new generation of car seat. \\\n",
    "                Use a 3 to 5 sentence paragraph to describe this product.',\n",
    "            max_tokens=400,\n",
    "            n=1\n",
    "        )\n",
    "\n",
    "print(response['choices'][0]['text'])"
   ]
  },
  {
   "attachments": {},
   "cell_type": "markdown",
   "metadata": {},
   "source": [
    "# 7. Instead of just saying what not to do, say what to do instead"
   ]
  },
  {
   "cell_type": "code",
   "execution_count": 14,
   "metadata": {},
   "outputs": [
    {
     "name": "stdout",
     "output_type": "stream",
     "text": [
      " I apologize for the trouble. Can you please tell me what type of issue you’re experiencing?\n"
     ]
    }
   ],
   "source": [
    "response = openai.Completion.create(\n",
    "            engine=\"text-davinci-003\",\n",
    "            prompt='The following is a conversation between an Agent and a Customer. DO NOT ASK USERNAME OR PASSWORD. DO NOT REPEAT. \\n\\n\\\n",
    "                Customer: I can’t log in to my account.\\n\\\n",
    "                Agent:',\n",
    "            max_tokens=400,\n",
    "            n=1\n",
    "        )\n",
    "\n",
    "print(response['choices'][0]['text'])"
   ]
  },
  {
   "cell_type": "code",
   "execution_count": 15,
   "metadata": {},
   "outputs": [
    {
     "name": "stdout",
     "output_type": "stream",
     "text": [
      " I apologize for the inconvenience! It sounds like you are having trouble signing into your account. Let's start by checking out our help article at samplewebsite.com/help/faq. It has a list of steps you can take to get logged in properly. If you still can't log in, please let me know and I will be more than happy to help.\n"
     ]
    }
   ],
   "source": [
    "response = openai.Completion.create(\n",
    "            engine=\"text-davinci-003\",\n",
    "            prompt='The following is a conversation between an Agent and a Customer. The agent will attempt to diagnose the \\\n",
    "                problem and suggest a solution, whilst refraining from asking any questions related to PII. \\\n",
    "                Instead of asking for PII, such as username or password, refer the user to the help \\\n",
    "                article www.samplewebsite.com/help/faq \\n\\n\\\n",
    "                Customer: I can’t log in to my account. \\n\\\n",
    "                Agent:',\n",
    "            max_tokens=400,\n",
    "            n=1\n",
    "        )\n",
    "\n",
    "print(response['choices'][0]['text'])"
   ]
  },
  {
   "attachments": {},
   "cell_type": "markdown",
   "metadata": {},
   "source": [
    "# 8. Code Generation Specific - Use “leading words” to nudge the model toward a particular pattern"
   ]
  },
  {
   "cell_type": "code",
   "execution_count": 16,
   "metadata": {},
   "outputs": [
    {
     "name": "stdout",
     "output_type": "stream",
     "text": [
      "\n",
      "\n",
      "def mile_to_Kilometer():\n",
      "    miles = int(input(\"Please enter a number in miles : \"))\n",
      "    conversion_factor = 1.609\n",
      "    kilometers = miles * conversion_factor \n",
      "    print(\"The number of kilometers is \",round(kilometers,2))\n",
      "\n",
      "mile_to_Kilometer()\n"
     ]
    }
   ],
   "source": [
    "response = openai.Completion.create(\n",
    "            engine=\"text-davinci-003\",\n",
    "            prompt='# Write a simple python function that \\n\\\n",
    "                # 1. Ask me for a number in mile\\n\\\n",
    "                # 2. It converts miles to kilometers',\n",
    "            max_tokens=400,\n",
    "        )\n",
    "\n",
    "print(response['choices'][0]['text'])"
   ]
  },
  {
   "cell_type": "code",
   "execution_count": 17,
   "metadata": {},
   "outputs": [
    {
     "name": "stdout",
     "output_type": "stream",
     "text": [
      " math\n",
      " \n",
      "def MileToKiloConverter(miles):\n",
      " \n",
      "   kilo = miles * 1.60934\n",
      " \n",
      "   return math.ceil(kilo)\n",
      " \n",
      "Miles = float(input(\"Enter the miles: \"))\n",
      "KiloResult = MileToKiloConverter(Miles)\n",
      "print(KiloResult,\"Kilometers\")\n"
     ]
    }
   ],
   "source": [
    "response = openai.Completion.create(\n",
    "            engine=\"text-davinci-003\",\n",
    "            prompt='# Write a simple python function that \\n\\\n",
    "                # 1. Ask me for a number in mile\\n\\\n",
    "                # 2. It converts miles to kilometers\\n\\n\\\n",
    "                import ',\n",
    "            max_tokens=400,\n",
    "        )\n",
    "\n",
    "print(response['choices'][0]['text'])"
   ]
  },
  {
   "cell_type": "code",
   "execution_count": null,
   "metadata": {},
   "outputs": [],
   "source": []
  }
 ],
 "metadata": {
  "kernelspec": {
   "display_name": "openai",
   "language": "python",
   "name": "python3"
  },
  "language_info": {
   "codemirror_mode": {
    "name": "ipython",
    "version": 3
   },
   "file_extension": ".py",
   "mimetype": "text/x-python",
   "name": "python",
   "nbconvert_exporter": "python",
   "pygments_lexer": "ipython3",
   "version": "3.10.8"
  },
  "orig_nbformat": 4,
  "vscode": {
   "interpreter": {
    "hash": "46e713d346594bdc8854b5efeeaa36881066da37f9f361dd11b762eb213cfd5c"
   }
  }
 },
 "nbformat": 4,
 "nbformat_minor": 2
}
