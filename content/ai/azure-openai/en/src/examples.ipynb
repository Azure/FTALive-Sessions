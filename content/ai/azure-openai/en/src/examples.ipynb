{
 "cells": [
  {
   "cell_type": "code",
   "execution_count": 1,
   "metadata": {},
   "outputs": [
    {
     "data": {
      "text/plain": [
       "True"
      ]
     },
     "execution_count": 1,
     "metadata": {},
     "output_type": "execute_result"
    }
   ],
   "source": [
    "import os\n",
    "import json\n",
    "from dotenv import load_dotenv\n",
    "load_dotenv() "
   ]
  },
  {
   "cell_type": "code",
   "execution_count": 20,
   "metadata": {},
   "outputs": [],
   "source": [
    "azure_openai_endpoint = \"https://msopenai.openai.azure.com/\"\n",
    "azure_openai_key = os.getenv(\"AZURE_OPENAI_KEY\")"
   ]
  },
  {
   "attachments": {},
   "cell_type": "markdown",
   "metadata": {},
   "source": [
    "## Models"
   ]
  },
  {
   "attachments": {},
   "cell_type": "markdown",
   "metadata": {},
   "source": [
    "### List deployed models"
   ]
  },
  {
   "cell_type": "code",
   "execution_count": 15,
   "metadata": {},
   "outputs": [],
   "source": [
    "list_models_uri = azure_openai_endpoint + \"openai/models?api-version=2022-06-01-preview\""
   ]
  },
  {
   "cell_type": "code",
   "execution_count": 22,
   "metadata": {},
   "outputs": [
    {
     "name": "stdout",
     "output_type": "stream",
     "text": [
      "{\"data\": [{\"scale_settings\": {\"scale_type\": \"standard\"}, \"model\": \"text-davinci-002\", \"owner\": \"organization-owner\", \"id\": \"Test_Davinci\", \"status\": \"succeeded\", \"created_at\": 1660002143, \"updated_at\": 1660002143, \"object\": \"deployment\"}], \"object\": \"list\"}\n"
     ]
    }
   ],
   "source": [
    "import requests\n",
    "#headers = {'Content-Type': 'application/octet-stream'}\n",
    "headers = {'api-key' : azure_openai_key}\n",
    "\n",
    "try:\n",
    "    response = requests.get(list_models_uri, headers = headers)\n",
    "    #print(response.status_code)\n",
    "    #print(response.json())\n",
    "    print(json.dumps(response.json()))\n",
    "except Exception as e:\n",
    "    print(e)\n"
   ]
  },
  {
   "attachments": {},
   "cell_type": "markdown",
   "metadata": {},
   "source": [
    "### Deploy new model"
   ]
  },
  {
   "cell_type": "code",
   "execution_count": 26,
   "metadata": {},
   "outputs": [],
   "source": [
    "deploy_models_uri = azure_openai_endpoint + \"/openai/deployments?api-version=2022-12-01\""
   ]
  },
  {
   "cell_type": "code",
   "execution_count": 33,
   "metadata": {},
   "outputs": [
    {
     "name": "stdout",
     "output_type": "stream",
     "text": [
      "{\"scale_settings\": {\"scale_type\": \"standard\"}, \"model\": \"text-search-curie-doc-001\", \"owner\": \"organization-owner\", \"id\": \"deployment-9630ce67cf6441acb01086ddbaddb694\", \"status\": \"succeeded\", \"created_at\": 1672972808, \"updated_at\": 1672972808, \"object\": \"deployment\"}\n"
     ]
    }
   ],
   "source": [
    "import requests\n",
    "headers = {'api-key' : azure_openai_key}\n",
    "body = {'model' : 'text-search-curie-doc-001', 'scale_settings' : {'scale_type' : 'standard'}}\n",
    "#body = {'model' : 'text-search-curie-query-001', 'id' : 'Curie_Query', 'scale_settings' : {'scale_type' : 'standard', 'instance_count' : 1, 'instance_type' : 'Standard_D2_v2'}}\n",
    "try:\n",
    "    response = requests.post(deploy_models_uri, headers = headers, json = body)\n",
    "    print(json.dumps(response.json()))\n",
    "except Exception as e:\n",
    "    print(e)\n"
   ]
  },
  {
   "cell_type": "markdown",
   "metadata": {},
   "source": []
  }
 ],
 "metadata": {
  "kernelspec": {
   "display_name": "openai",
   "language": "python",
   "name": "python3"
  },
  "language_info": {
   "codemirror_mode": {
    "name": "ipython",
    "version": 3
   },
   "file_extension": ".py",
   "mimetype": "text/x-python",
   "name": "python",
   "nbconvert_exporter": "python",
   "pygments_lexer": "ipython3",
   "version": "3.10.8 (main, Nov  4 2022, 13:48:29) [GCC 11.2.0]"
  },
  "orig_nbformat": 4,
  "vscode": {
   "interpreter": {
    "hash": "46e713d346594bdc8854b5efeeaa36881066da37f9f361dd11b762eb213cfd5c"
   }
  }
 },
 "nbformat": 4,
 "nbformat_minor": 2
}
