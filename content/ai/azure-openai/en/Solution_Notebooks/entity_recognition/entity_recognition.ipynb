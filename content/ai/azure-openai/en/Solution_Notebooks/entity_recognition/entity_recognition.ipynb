{
 "cells": [
  {
   "attachments": {},
   "cell_type": "markdown",
   "metadata": {},
   "source": [
    "## Entity Extraction using GPT-3\n",
    "\n",
    "This example shows how to extract domain-specific entities from structured text such as legal documents and contracts using zero-shot learning."
   ]
  },
  {
   "attachments": {},
   "cell_type": "markdown",
   "metadata": {},
   "source": [
    "### Step 1: Initialize Open AI client using your Azure Open AI subscription\n",
    "\n",
    "Make sure to fill out values for API_KEY and RESOURCE_ENDPOINT using your Azure Open AI subscription."
   ]
  },
  {
   "cell_type": "code",
   "execution_count": 1,
   "metadata": {},
   "outputs": [
    {
     "data": {
      "text/plain": [
       "True"
      ]
     },
     "execution_count": 1,
     "metadata": {},
     "output_type": "execute_result"
    }
   ],
   "source": [
    "from dotenv import load_dotenv\n",
    "load_dotenv('../../src/.env') "
   ]
  },
  {
   "cell_type": "code",
   "execution_count": 3,
   "metadata": {},
   "outputs": [],
   "source": [
    "import openai\n",
    "import os\n",
    "\n",
    "GPT_ENGINE = \"text-curie-001\" #\"curie-instruct\"\n",
    "\n",
    "API_KEY = os.getenv(\"AZURE_OPENAI_KEY\")  # SET YOUR OWN API KEY HERE\n",
    "RESOURCE_ENDPOINT = os.getenv(\"AZURE_OPENAI_ENDPOINT\")  # SET A LINK TO YOUR RESOURCE ENDPOINT\n",
    "\n",
    "openai.api_type = \"azure\"\n",
    "openai.api_key = API_KEY\n",
    "openai.api_base = RESOURCE_ENDPOINT\n",
    "openai.api_version = \"2022-06-01-preview\""
   ]
  },
  {
   "attachments": {},
   "cell_type": "markdown",
   "metadata": {},
   "source": [
    "### Step 2: Define entities to be extracted\n",
    "\n",
    "For this example, we will extract details about maximum fines, illegal activivies and types of punishments."
   ]
  },
  {
   "cell_type": "code",
   "execution_count": 4,
   "metadata": {},
   "outputs": [],
   "source": [
    "entity_types = [\n",
    "    \"Maximum Fine\",\n",
    "    \"Illegal Activity\" \"Punishment for Corporation\",\n",
    "    \"Punishment for Person\",\n",
    "]"
   ]
  },
  {
   "attachments": {},
   "cell_type": "markdown",
   "metadata": {},
   "source": [
    "### Step 3: Define texts to be analyzed\n",
    "\n",
    "In this example we copied two paragraphs from the Clayton Antitrust Act of 1914."
   ]
  },
  {
   "cell_type": "code",
   "execution_count": 5,
   "metadata": {},
   "outputs": [],
   "source": [
    "paragraph_1 = \"\"\"\n",
    "[Trusts, etc., in restraint of trade illegal; penalty]\n",
    "Every contract, combination in the form of trust or otherwise, or conspiracy, in restraint of \n",
    "trade or commerce among the several States, or with foreign nations, is declared to be illegal. \n",
    "Every person who shall make any contract or engage in any combination or conspiracy \n",
    "hereby declared to be illegal shall be deemed guilty of a felony, and, on conviction thereof, \n",
    "shall be punished by fine not exceeding $100,000,000 if a corporation, or, if any other \n",
    "person, $1,000,000, or by imprisonment not exceeding 10 years, or by both said \n",
    "punishments, in the discretion of the court.\n",
    "\"\"\"\n",
    "\n",
    "paragraph_2 = \"\"\"\n",
    "[Monopolizing trade a felony; penalty]\n",
    "Every person who shall monopolize, or attempt to monopolize, or combine or conspire with \n",
    "any other person or persons, to monopolize any part of the trade or commerce among the \n",
    "several States, or with foreign nations, shall be deemed guilty of a felony, and, on conviction \n",
    "thereof, shall be punished by fine not exceeding $100,000,000 if a corporation, or, if any \n",
    "other person, $1,000,000, or by imprisonment not exceeding 10 years, or by both said \n",
    "punishments, in the discretion of the court\n",
    "\"\"\""
   ]
  },
  {
   "attachments": {},
   "cell_type": "markdown",
   "metadata": {},
   "source": [
    "### Step 4: Create prompts\n",
    "\n",
    "A Prompt is a string that will be passed to the Azure Open AI API so that it can identify the context of the task we are trying to solve."
   ]
  },
  {
   "cell_type": "code",
   "execution_count": 6,
   "metadata": {},
   "outputs": [
    {
     "name": "stdout",
     "output_type": "stream",
     "text": [
      "Recognize the following entities: Maximum Fine, Illegal ActivityPunishment for Corporation, Punishment for Person in the following paragraph using key:value pairs\n",
      "\n",
      "[Trusts, etc., in restraint of trade illegal; penalty]\n",
      "Every contract, combination in the form of trust or otherwise, or conspiracy, in restraint of \n",
      "trade or commerce among the several States, or with foreign nations, is declared to be illegal. \n",
      "Every person who shall make any contract or engage in any combination or conspiracy \n",
      "hereby declared to be illegal shall be deemed guilty of a felony, and, on conviction thereof, \n",
      "shall be punished by fine not exceeding $100,000,000 if a corporation, or, if any other \n",
      "person, $1,000,000, or by imprisonment not exceeding 10 years, or by both said \n",
      "punishments, in the discretion of the court.\n",
      "\n"
     ]
    }
   ],
   "source": [
    "prompt_1 = f\"Recognize the following entities: {', '.join(entity_types)} in the following paragraph using key:value pairs\\n{paragraph_1}\"\n",
    "print(prompt_1)"
   ]
  },
  {
   "cell_type": "code",
   "execution_count": 7,
   "metadata": {},
   "outputs": [
    {
     "name": "stdout",
     "output_type": "stream",
     "text": [
      "Recognize the following entities: Maximum Fine, Illegal ActivityPunishment for Corporation, Punishment for Person in the following paragraph using key:value pairs\n",
      "\n",
      "[Monopolizing trade a felony; penalty]\n",
      "Every person who shall monopolize, or attempt to monopolize, or combine or conspire with \n",
      "any other person or persons, to monopolize any part of the trade or commerce among the \n",
      "several States, or with foreign nations, shall be deemed guilty of a felony, and, on conviction \n",
      "thereof, shall be punished by fine not exceeding $100,000,000 if a corporation, or, if any \n",
      "other person, $1,000,000, or by imprisonment not exceeding 10 years, or by both said \n",
      "punishments, in the discretion of the court\n",
      "\n"
     ]
    }
   ],
   "source": [
    "prompt_2 = f\"Recognize the following entities: {', '.join(entity_types)} in the following paragraph using key:value pairs\\n{paragraph_2}\"\n",
    "print(prompt_2)"
   ]
  },
  {
   "attachments": {},
   "cell_type": "markdown",
   "metadata": {},
   "source": [
    "### Step 5: Pass prompt to Azure Open AI completion endpoint\n",
    "\n",
    "Finally, we need to pass the prompts that we created to the Azure Open AI endpoint and parse the output."
   ]
  },
  {
   "cell_type": "code",
   "execution_count": 8,
   "metadata": {},
   "outputs": [
    {
     "name": "stdout",
     "output_type": "stream",
     "text": [
      "Entities found \n",
      "Maximum Fine: $100,000,000\n",
      "Illegal Activity: Restraint of trade\n",
      "Punishment for Corporation: $1,000,000\n",
      "Punishment for Person in the following paragraph: $100,000,000\n",
      "\n",
      "Entities found \n",
      "Maximum Fine: $100,000,000\n",
      "Illegal Activity: Monopolizing trade\n",
      "Punishment for Corporation: Fine not exceeding $1,000,000\n",
      "Punishment for Person in the following paragraph using key:value pairs\n",
      "\n",
      "[Monopolizing trade a felony; penalty]\n",
      "Every person who shall monopolize, or attempt to monopolize, or combine or conspire with \n",
      "any other person or persons, to monopolize any part of the trade or commerce\n",
      "\n"
     ]
    }
   ],
   "source": [
    "def recognize_entities(prompt, engine=GPT_ENGINE):\n",
    "    \"\"\"Recognize entities in text using OpenAI's text classification API.\"\"\"\n",
    "    response = openai.Completion.create(\n",
    "        engine=engine,\n",
    "        prompt=prompt,\n",
    "        temperature=0.0,\n",
    "        max_tokens=100,\n",
    "    )\n",
    "    return response.choices[0].text\n",
    "\n",
    "\n",
    "for prompt in [prompt_1, prompt_2]:\n",
    "    found_entities = recognize_entities(prompt, engine=GPT_ENGINE)\n",
    "    found_entities_list = found_entities.split(\"\\n\")\n",
    "    found_entity_types = [\n",
    "        entity.split(\":\")[0] for entity in found_entities_list if entity\n",
    "    ]\n",
    "\n",
    "    print(f\"Entities found {found_entities}\\n\")"
   ]
  }
 ],
 "metadata": {
  "kernelspec": {
   "display_name": "openai",
   "language": "python",
   "name": "python3"
  },
  "language_info": {
   "codemirror_mode": {
    "name": "ipython",
    "version": 3
   },
   "file_extension": ".py",
   "mimetype": "text/x-python",
   "name": "python",
   "nbconvert_exporter": "python",
   "pygments_lexer": "ipython3",
   "version": "3.10.8"
  },
  "orig_nbformat": 4,
  "vscode": {
   "interpreter": {
    "hash": "46e713d346594bdc8854b5efeeaa36881066da37f9f361dd11b762eb213cfd5c"
   }
  }
 },
 "nbformat": 4,
 "nbformat_minor": 2
}
